{
 "cells": [
  {
   "cell_type": "markdown",
   "metadata": {},
   "source": [
    "# Text Preprocessing "
   ]
  },
  {
   "cell_type": "code",
   "execution_count": 1,
   "metadata": {},
   "outputs": [],
   "source": [
    "from IPython.core.interactiveshell import InteractiveShell\n",
    "InteractiveShell.ast_node_interactivity = \"all\""
   ]
  },
  {
   "cell_type": "code",
   "execution_count": 2,
   "metadata": {},
   "outputs": [
    {
     "name": "stdout",
     "output_type": "stream",
     "text": [
      "Requirement already satisfied: textblob in /opt/conda/lib/python3.7/site-packages (0.15.3)\n",
      "Requirement already satisfied: nltk>=3.1 in /opt/conda/lib/python3.7/site-packages (from textblob) (3.4.5)\n",
      "Requirement already satisfied: six in /opt/conda/lib/python3.7/site-packages (from nltk>=3.1->textblob) (1.14.0)\n"
     ]
    }
   ],
   "source": [
    "!pip install textblob"
   ]
  },
  {
   "cell_type": "code",
   "execution_count": 3,
   "metadata": {},
   "outputs": [
    {
     "name": "stdout",
     "output_type": "stream",
     "text": [
      "Requirement already satisfied: tweet-preprocessor in /opt/conda/lib/python3.7/site-packages (0.6.0)\n"
     ]
    }
   ],
   "source": [
    "!pip install tweet-preprocessor"
   ]
  },
  {
   "cell_type": "code",
   "execution_count": 4,
   "metadata": {},
   "outputs": [
    {
     "name": "stderr",
     "output_type": "stream",
     "text": [
      "[nltk_data] Downloading package wordnet to /root/nltk_data...\n",
      "[nltk_data]   Package wordnet is already up-to-date!\n"
     ]
    },
    {
     "data": {
      "text/plain": [
       "True"
      ]
     },
     "execution_count": 4,
     "metadata": {},
     "output_type": "execute_result"
    }
   ],
   "source": [
    "import csv\n",
    "import re #regular expression\n",
    "from textblob import TextBlob, Word\n",
    "import string\n",
    "import preprocessor as p\n",
    "from nltk.tokenize import word_tokenize\n",
    "import nltk\n",
    "nltk.download('wordnet')\n",
    "import pandas as pd\n",
    "import numpy as np\n",
    "\n",
    "\n",
    "custom_stop_words =  {'co', 'party', 'tv' 'de', 'pm', 'ago', 'tonight', 'watch', 'former', 'https','rt','new','demsinphilly','one', 'amp', 'say', 'day', 'us', 'say', 'go', 'com', 'state', 'tweet', 'politics',\n",
    " 'democrats',\n",
    " 'political',\n",
    " 'philly',\n",
    " 'dnc2016',\n",
    " 'dncleak'\n",
    " 'dncinphl',\n",
    " 'convention',\n",
    " 'democratic',\n",
    " 'dnc',\n",
    " 'demconvention',\n",
    " 'things',\n",
    " 'talk',\n",
    " 'like',\n",
    " 'national',\n",
    " 'pennsylvania',\n",
    " 'speech',\n",
    " 'live',\"n't\",\"'re\",\"'s\",\"doesn't\", 'in', 'down', 'you', 's', \"weren't\", 'before', 'mustn', 'shan', \"isn't\", 'mightn', 'than', 'aren', 'that', 'from', \"that'll\", 'wasn', \"should've\", 'weren', 'do', 'once', 'those', \"aren't\", 'no', 'hasn', 'himself', 'own', 'shouldn', 'does', 'all', 'your', 'isn', 'm', 'has', 'been', 'these', \"hadn't\", 'because', 'with', 'having', 'didn', 'up', 'myself', 'between', 'for', 'is', 'at', 'where', 'and', 'be', 'won', 'll', 'or', \"mightn't\", 'above', 'too', \"you'll\", \"won't\", 'he', 'have', 'into', 'of', 'after', 'ma', 'just', \"didn't\", 'am', 'but', 'couldn', 'the', 'nor', 'being', 'same', 'will', 'theirs', 'while', 'again', 't', 'can', \"shan't\", 'off', 'any', 'd', 'by', 'our', 'some', 'so', 'themselves', 'what', 'an', 'i', 'only', 'as', 'are', \"you're\", 'they', 'both', 'them', 'very', 'other', 'a', 'few', \"you've\", \"wasn't\", 'yourselves', 'over', \"don't\", 've', 'against', 'below', 'was', 'my', 'out', 'doing', \"needn't\", 'did', 'about', \"hasn't\", 'whom', 'how', 'why', 'further', 'o', 'on', 'not', 'ain', \"you'd\", 'here', 'y', 'if', \"haven't\", 'she', 'during', 'we', 'ours', 'through', 'then', 'her', \"she's\", 'their', 'which', 'don', 'hadn', 'its', 'yours', 'had', 'me', 'his', 'hers', 'when', 're', 'most', 'itself', \"it's\", 'under', 'now', 'to', 'him', \"mustn't\", 'yourself', 'should', 'until', 'it', \"couldn't\", 'who', 'each', \"shouldn't\", 'there', 'ourselves', 'haven', 'wouldn', 'herself', \"wouldn't\", 'needn', 'were', 'more', 'this', 'doesn', 'such'}\n",
    "\n",
    "\n",
    "p.set_options(p.OPT.URL, p.OPT.EMOJI, p.OPT.MENTION, p.OPT.SMILEY, p.OPT.NUMBER, p.OPT.HASHTAG)\n",
    "\n",
    "#HappyEmoticons\n",
    "emoticons_happy = set([\n",
    "    ':-)', ':)', ';)', ':o)', ':]', ':3', ':c)', ':>', '=]', '8)', '=)', ':}',\n",
    "    ':^)', ':-D', ':D', '8-D', '8D', 'x-D', 'xD', 'X-D', 'XD', '=-D', '=D',\n",
    "    '=-3', '=3', ':-))', \":'-)\", \":')\", ':*', ':^*', '>:P', ':-P', ':P', 'X-P',\n",
    "    'x-p', 'xp', 'XP', ':-p', ':p', '=p', ':-b', ':b', '>:)', '>;)', '>:-)',\n",
    "    '<3'\n",
    "    ])\n",
    "\n",
    "# Sad Emoticons\n",
    "emoticons_sad = set([\n",
    "    ':L', ':-/', '>:/', ':S', '>:[', ':@', ':-(', ':[', ':-||', '=L', ':<',\n",
    "    ':-[', ':-<', '=\\\\', '=/', '>:(', ':(', '>.<', \":'-(\", \":'(\", ':\\\\', ':-c',\n",
    "    ':c', ':{', '>:\\\\', ';('\n",
    "    ])\n",
    "\n",
    "#Emoji patterns\n",
    "emoji_pattern = re.compile(\"[\"\n",
    "         u\"\\U0001F600-\\U0001F64F\"  # emoticons\n",
    "         u\"\\U0001F300-\\U0001F5FF\"  # symbols & pictographs\n",
    "         u\"\\U0001F680-\\U0001F6FF\"  # transport & map symbols\n",
    "         u\"\\U0001F1E0-\\U0001F1FF\"  # flags (iOS)\n",
    "         u\"\\U00002702-\\U000027B0\"\n",
    "         u\"\\U000024C2-\\U0001F251\"\n",
    "         \"]+\", flags=re.UNICODE)\n",
    "#combine sad and happy emoticons\n",
    "emoticons = emoticons_happy.union(emoticons_sad)\n",
    "\n",
    "def clean_tweets(tweet):\n",
    "    tweet=p.clean(tweet).lower()\n",
    "    #stop_words = set(stopwords.words('english'))\n",
    "    word_tokens = word_tokenize(tweet)\n",
    "#after tweepy preprocessing the colon symbol left remain after      #removing mentions\n",
    "    tweet = re.sub(r':', '', tweet)\n",
    "    tweet = re.sub(r'‚Ä¶', '', tweet)\n",
    "#replace consecutive non-ASCII characters with a space\n",
    "    tweet = re.sub(r'[^\\x00-\\x7F]+',' ', tweet)\n",
    "#remove emojis from tweet\n",
    "    tweet = emoji_pattern.sub(r'', tweet)\n",
    "#filter using NLTK library append it to a string\n",
    "    #filtered_tweet = [w for w in word_tokens if not w in custom_stop_words]\n",
    "    filtered_tweet = []\n",
    "#looping through conditions\n",
    "    for w in word_tokens:\n",
    "#check tokens against stop words , emoticons and punctuations\n",
    "        if w not in custom_stop_words and w not in emoticons and w not in string.punctuation:\n",
    "            filtered_tweet.append(w)\n",
    "    return ' '.join(filtered_tweet)\n",
    "    #print(word_tokens)\n",
    "    #print(filtered_sentence)return tweet"
   ]
  },
  {
   "cell_type": "code",
   "execution_count": 5,
   "metadata": {},
   "outputs": [
    {
     "data": {
      "text/html": [
       "<div>\n",
       "<style scoped>\n",
       "    .dataframe tbody tr th:only-of-type {\n",
       "        vertical-align: middle;\n",
       "    }\n",
       "\n",
       "    .dataframe tbody tr th {\n",
       "        vertical-align: top;\n",
       "    }\n",
       "\n",
       "    .dataframe thead th {\n",
       "        text-align: right;\n",
       "    }\n",
       "</style>\n",
       "<table border=\"1\" class=\"dataframe\">\n",
       "  <thead>\n",
       "    <tr style=\"text-align: right;\">\n",
       "      <th></th>\n",
       "      <th>favorite_count</th>\n",
       "      <th>id</th>\n",
       "      <th>in_reply_to_status_id</th>\n",
       "      <th>in_reply_to_user_id</th>\n",
       "      <th>retweet_count</th>\n",
       "      <th>reweet_id</th>\n",
       "      <th>user_favourites_count</th>\n",
       "      <th>user_followers_count</th>\n",
       "      <th>user_friends_count</th>\n",
       "      <th>user_listed_count</th>\n",
       "      <th>user_statuses_count</th>\n",
       "      <th>user_time_zone</th>\n",
       "    </tr>\n",
       "  </thead>\n",
       "  <tbody>\n",
       "    <tr>\n",
       "      <th>count</th>\n",
       "      <td>605844.000000</td>\n",
       "      <td>6.058440e+05</td>\n",
       "      <td>1.183500e+04</td>\n",
       "      <td>2.267400e+04</td>\n",
       "      <td>605844.000000</td>\n",
       "      <td>3.979540e+05</td>\n",
       "      <td>6.058440e+05</td>\n",
       "      <td>6.058440e+05</td>\n",
       "      <td>605844.000000</td>\n",
       "      <td>605844.000000</td>\n",
       "      <td>6.058440e+05</td>\n",
       "      <td>0.0</td>\n",
       "    </tr>\n",
       "    <tr>\n",
       "      <th>mean</th>\n",
       "      <td>1.581366</td>\n",
       "      <td>7.581310e+17</td>\n",
       "      <td>7.574064e+17</td>\n",
       "      <td>2.031245e+16</td>\n",
       "      <td>675.982474</td>\n",
       "      <td>7.578850e+17</td>\n",
       "      <td>4.805048e+04</td>\n",
       "      <td>1.996670e+04</td>\n",
       "      <td>3029.664534</td>\n",
       "      <td>179.781795</td>\n",
       "      <td>8.162149e+04</td>\n",
       "      <td>NaN</td>\n",
       "    </tr>\n",
       "    <tr>\n",
       "      <th>std</th>\n",
       "      <td>94.889686</td>\n",
       "      <td>5.540515e+14</td>\n",
       "      <td>1.375731e+16</td>\n",
       "      <td>1.198029e+17</td>\n",
       "      <td>2646.932576</td>\n",
       "      <td>9.714985e+15</td>\n",
       "      <td>8.824933e+04</td>\n",
       "      <td>5.875644e+05</td>\n",
       "      <td>8283.180371</td>\n",
       "      <td>2140.742374</td>\n",
       "      <td>1.490638e+05</td>\n",
       "      <td>NaN</td>\n",
       "    </tr>\n",
       "    <tr>\n",
       "      <th>min</th>\n",
       "      <td>0.000000</td>\n",
       "      <td>7.564538e+17</td>\n",
       "      <td>2.300152e+17</td>\n",
       "      <td>1.200000e+01</td>\n",
       "      <td>0.000000</td>\n",
       "      <td>2.029270e+10</td>\n",
       "      <td>0.000000e+00</td>\n",
       "      <td>0.000000e+00</td>\n",
       "      <td>0.000000</td>\n",
       "      <td>0.000000</td>\n",
       "      <td>1.000000e+00</td>\n",
       "      <td>NaN</td>\n",
       "    </tr>\n",
       "    <tr>\n",
       "      <th>25%</th>\n",
       "      <td>0.000000</td>\n",
       "      <td>7.577582e+17</td>\n",
       "      <td>7.576346e+17</td>\n",
       "      <td>1.580876e+07</td>\n",
       "      <td>0.000000</td>\n",
       "      <td>7.577482e+17</td>\n",
       "      <td>2.840000e+03</td>\n",
       "      <td>2.980000e+02</td>\n",
       "      <td>401.000000</td>\n",
       "      <td>8.000000</td>\n",
       "      <td>8.897000e+03</td>\n",
       "      <td>NaN</td>\n",
       "    </tr>\n",
       "    <tr>\n",
       "      <th>50%</th>\n",
       "      <td>0.000000</td>\n",
       "      <td>7.581095e+17</td>\n",
       "      <td>7.579589e+17</td>\n",
       "      <td>4.969813e+07</td>\n",
       "      <td>15.000000</td>\n",
       "      <td>7.580881e+17</td>\n",
       "      <td>1.493600e+04</td>\n",
       "      <td>1.000000e+03</td>\n",
       "      <td>1086.000000</td>\n",
       "      <td>31.000000</td>\n",
       "      <td>3.083900e+04</td>\n",
       "      <td>NaN</td>\n",
       "    </tr>\n",
       "    <tr>\n",
       "      <th>75%</th>\n",
       "      <td>0.000000</td>\n",
       "      <td>7.585271e+17</td>\n",
       "      <td>7.583853e+17</td>\n",
       "      <td>4.993367e+08</td>\n",
       "      <td>219.000000</td>\n",
       "      <td>7.584708e+17</td>\n",
       "      <td>5.309550e+04</td>\n",
       "      <td>3.178000e+03</td>\n",
       "      <td>3083.000000</td>\n",
       "      <td>95.000000</td>\n",
       "      <td>9.224900e+04</td>\n",
       "      <td>NaN</td>\n",
       "    </tr>\n",
       "    <tr>\n",
       "      <th>max</th>\n",
       "      <td>41455.000000</td>\n",
       "      <td>7.594183e+17</td>\n",
       "      <td>7.594173e+17</td>\n",
       "      <td>7.591460e+17</td>\n",
       "      <td>27313.000000</td>\n",
       "      <td>7.594181e+17</td>\n",
       "      <td>2.393502e+06</td>\n",
       "      <td>1.085449e+08</td>\n",
       "      <td>576443.000000</td>\n",
       "      <td>209263.000000</td>\n",
       "      <td>3.515706e+06</td>\n",
       "      <td>NaN</td>\n",
       "    </tr>\n",
       "  </tbody>\n",
       "</table>\n",
       "</div>"
      ],
      "text/plain": [
       "       favorite_count            id  in_reply_to_status_id  \\\n",
       "count   605844.000000  6.058440e+05           1.183500e+04   \n",
       "mean         1.581366  7.581310e+17           7.574064e+17   \n",
       "std         94.889686  5.540515e+14           1.375731e+16   \n",
       "min          0.000000  7.564538e+17           2.300152e+17   \n",
       "25%          0.000000  7.577582e+17           7.576346e+17   \n",
       "50%          0.000000  7.581095e+17           7.579589e+17   \n",
       "75%          0.000000  7.585271e+17           7.583853e+17   \n",
       "max      41455.000000  7.594183e+17           7.594173e+17   \n",
       "\n",
       "       in_reply_to_user_id  retweet_count     reweet_id  \\\n",
       "count         2.267400e+04  605844.000000  3.979540e+05   \n",
       "mean          2.031245e+16     675.982474  7.578850e+17   \n",
       "std           1.198029e+17    2646.932576  9.714985e+15   \n",
       "min           1.200000e+01       0.000000  2.029270e+10   \n",
       "25%           1.580876e+07       0.000000  7.577482e+17   \n",
       "50%           4.969813e+07      15.000000  7.580881e+17   \n",
       "75%           4.993367e+08     219.000000  7.584708e+17   \n",
       "max           7.591460e+17   27313.000000  7.594181e+17   \n",
       "\n",
       "       user_favourites_count  user_followers_count  user_friends_count  \\\n",
       "count           6.058440e+05          6.058440e+05       605844.000000   \n",
       "mean            4.805048e+04          1.996670e+04         3029.664534   \n",
       "std             8.824933e+04          5.875644e+05         8283.180371   \n",
       "min             0.000000e+00          0.000000e+00            0.000000   \n",
       "25%             2.840000e+03          2.980000e+02          401.000000   \n",
       "50%             1.493600e+04          1.000000e+03         1086.000000   \n",
       "75%             5.309550e+04          3.178000e+03         3083.000000   \n",
       "max             2.393502e+06          1.085449e+08       576443.000000   \n",
       "\n",
       "       user_listed_count  user_statuses_count  user_time_zone  \n",
       "count      605844.000000         6.058440e+05             0.0  \n",
       "mean          179.781795         8.162149e+04             NaN  \n",
       "std          2140.742374         1.490638e+05             NaN  \n",
       "min             0.000000         1.000000e+00             NaN  \n",
       "25%             8.000000         8.897000e+03             NaN  \n",
       "50%            31.000000         3.083900e+04             NaN  \n",
       "75%            95.000000         9.224900e+04             NaN  \n",
       "max        209263.000000         3.515706e+06             NaN  "
      ]
     },
     "execution_count": 5,
     "metadata": {},
     "output_type": "execute_result"
    },
    {
     "data": {
      "text/plain": [
       "Index(['coordinates', 'created_at', 'hashtags', 'media', 'urls',\n",
       "       'favorite_count', 'id', 'in_reply_to_screen_name',\n",
       "       'in_reply_to_status_id', 'in_reply_to_user_id', 'lang', 'place',\n",
       "       'possibly_sensitive', 'retweet_count', 'reweet_id',\n",
       "       'retweet_screen_name', 'source', 'text', 'tweet_url', 'user_created_at',\n",
       "       'user_screen_name', 'user_default_profile_image', 'user_description',\n",
       "       'user_favourites_count', 'user_followers_count', 'user_friends_count',\n",
       "       'user_listed_count', 'user_location', 'user_name', 'user_screen_name.1',\n",
       "       'user_statuses_count', 'user_time_zone', 'user_urls', 'user_verified'],\n",
       "      dtype='object')"
      ]
     },
     "execution_count": 5,
     "metadata": {},
     "output_type": "execute_result"
    }
   ],
   "source": [
    "df = pd.read_csv('/root/data/million-dconvention-tweets.csv')\n",
    "df.describe()\n",
    "df.columns"
   ]
  },
  {
   "cell_type": "code",
   "execution_count": 6,
   "metadata": {},
   "outputs": [
    {
     "data": {
      "text/plain": [
       "'/root'"
      ]
     },
     "execution_count": 6,
     "metadata": {},
     "output_type": "execute_result"
    }
   ],
   "source": [
    "pwd"
   ]
  },
  {
   "cell_type": "code",
   "execution_count": 7,
   "metadata": {},
   "outputs": [],
   "source": [
    "# clean text column\n",
    "df['text'] = df['text'].apply(lambda x: clean_tweets(x))"
   ]
  },
  {
   "cell_type": "code",
   "execution_count": 8,
   "metadata": {},
   "outputs": [],
   "source": [
    "# clean description column\n",
    "df['user_description'].fillna(value=' ', inplace=True)\n",
    "df['user_description'] = df['user_description'].apply(lambda x: clean_tweets(x))"
   ]
  },
  {
   "cell_type": "code",
   "execution_count": 9,
   "metadata": {},
   "outputs": [],
   "source": [
    "# clean user location column\n",
    "df['user_location'].fillna(value=' ', inplace=True)\n",
    "df['user_location'] = df['user_location'].apply(lambda x: clean_tweets(x))"
   ]
  },
  {
   "cell_type": "code",
   "execution_count": 10,
   "metadata": {},
   "outputs": [],
   "source": [
    "#save the cleaned text df\n",
    "df.to_csv('data/million_df_v3.csv')"
   ]
  },
  {
   "cell_type": "code",
   "execution_count": 11,
   "metadata": {},
   "outputs": [],
   "source": [
    "# break into smaller pieces because sagemaker won't open the larger csv\n",
    "#df[0:300000].to_csv('data/million_df_v2_1.csv')\n",
    "#df[300000:-1].to_csv('data/million_df_v2_2.csv')"
   ]
  },
  {
   "cell_type": "code",
   "execution_count": 13,
   "metadata": {},
   "outputs": [
    {
     "data": {
      "text/plain": [
       "0                                                speak need\n",
       "1                                       brilliant diss ever\n",
       "2         find hard believe single word says think donal...\n",
       "3                great reconnect fellow member sam ferraino\n",
       "4         wondering donaldtrump becomes president let wh...\n",
       "                                ...                        \n",
       "605839                hey racial discrimination fight learn\n",
       "605840                                      uncle joe fired\n",
       "605841      change last name clinton get away whatever want\n",
       "605842                                             malarkey\n",
       "605843                              poll honest trustworthy\n",
       "Name: text, Length: 605844, dtype: object"
      ]
     },
     "execution_count": 13,
     "metadata": {},
     "output_type": "execute_result"
    }
   ],
   "source": [
    "df['text']\n"
   ]
  },
  {
   "cell_type": "code",
   "execution_count": null,
   "metadata": {},
   "outputs": [],
   "source": []
  }
 ],
 "metadata": {
  "instance_type": "ml.t3.medium",
  "kernelspec": {
   "display_name": "Python 3 (Data Science)",
   "language": "python",
   "name": "python3__SAGEMAKER_INTERNAL__arn:aws:sagemaker:us-east-1:081325390199:image/datascience-1.0"
  },
  "language_info": {
   "codemirror_mode": {
    "name": "ipython",
    "version": 3
   },
   "file_extension": ".py",
   "mimetype": "text/x-python",
   "name": "python",
   "nbconvert_exporter": "python",
   "pygments_lexer": "ipython3",
   "version": "3.7.6"
  }
 },
 "nbformat": 4,
 "nbformat_minor": 4
}
