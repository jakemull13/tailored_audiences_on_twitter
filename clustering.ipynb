{
 "cells": [
  {
   "cell_type": "markdown",
   "metadata": {},
   "source": [
    "# Clustering "
   ]
  },
  {
   "cell_type": "code",
   "execution_count": 4,
   "metadata": {},
   "outputs": [],
   "source": [
    "import matplotlib.pyplot as plt\n",
    "import logging\n",
    "import numpy as np\n",
    "from optparse import OptionParser\n",
    "import sys\n",
    "from time import time\n",
    "import pandas as pd\n",
    "\n",
    "from IPython.core.interactiveshell import InteractiveShell\n",
    "InteractiveShell.ast_node_interactivity = \"all\""
   ]
  },
  {
   "cell_type": "markdown",
   "metadata": {},
   "source": [
    "# 1.) Create User Summary DataFrame\n",
    "Group by users and combine their text features"
   ]
  },
  {
   "cell_type": "code",
   "execution_count": 5,
   "metadata": {},
   "outputs": [
    {
     "data": {
      "text/plain": [
       "1"
      ]
     },
     "execution_count": 5,
     "metadata": {},
     "output_type": "execute_result"
    },
    {
     "data": {
      "text/plain": [
       "dtype('O')"
      ]
     },
     "execution_count": 5,
     "metadata": {},
     "output_type": "execute_result"
    }
   ],
   "source": [
    "df = pd.read_csv('data/million_df_v2.csv', index_col=0)\n",
    "df['user_description'].fillna(' ', inplace=True)\n",
    "#are any screen names missing? if not, use these as the global key/index\n",
    "df['user_screen_name'].isna().nunique()\n",
    "#all screen names are present. some are floats though? (from error below)\n",
    "#ensure that all usernames are strings\n",
    "df['user_screen_name'] = df['user_screen_name'].astype('str')\n",
    "df['user_screen_name'].dtypes"
   ]
  },
  {
   "cell_type": "code",
   "execution_count": 6,
   "metadata": {},
   "outputs": [
    {
     "data": {
      "text/plain": [
       "0           adelaide south australia\n",
       "1           winnipeg manitoba canada\n",
       "2                       united state\n",
       "3                       united state\n",
       "4                       united state\n",
       "                     ...            \n",
       "605839                  united state\n",
       "605840                panama city fl\n",
       "605841            south carolina usa\n",
       "605842    anywhere usa ghana england\n",
       "605843                  united state\n",
       "Name: user_location, Length: 581444, dtype: object"
      ]
     },
     "execution_count": 6,
     "metadata": {},
     "output_type": "execute_result"
    }
   ],
   "source": [
    "features = ['user_location',\n",
    "       'favorite_count', \n",
    "        'retweet_count', \n",
    "       'text', \n",
    "       'user_screen_name', 'user_description',\n",
    "       'user_followers_count', \n",
    "       'user_name']\n",
    "\n",
    "\n",
    "final_df = df[features]\n",
    "final_df = final_df[final_df['text'].isna()==False]\n",
    "final_df['user_location'].fillna(value=' ', inplace=True)\n",
    "final_df['user_location']\n",
    "# add the user_location text to the user_description text\n",
    "final_df['user_description'] = final_df['user_description'] + ' ' + final_df['user_location'] "
   ]
  },
  {
   "cell_type": "code",
   "execution_count": 7,
   "metadata": {},
   "outputs": [
    {
     "data": {
      "text/plain": [
       "user_screen_name\n",
       "000120o         meryl streep celebrated breaking glass ceiling...\n",
       "0001Angel       sander `` hillary clinton must become next pre...\n",
       "000Dillon000    muslim talking trump disrespecting woman read ...\n",
       "0014Priya              latest screenwriting tvseries movie thanks\n",
       "001Leslie                                  wow .. moving touching\n",
       "                                      ...                        \n",
       "zzzdeprived     amazing job ca wait see win `` america great a...\n",
       "zzzdogman       bernie taught anything love money especially e...\n",
       "zzzpills        subway filled sandernistas never miss opportun...\n",
       "zzzzalex                                             mostly false\n",
       "zzzzzabeth         much stronger together pas torch iconic sister\n",
       "Name: combined_text, Length: 246770, dtype: object"
      ]
     },
     "execution_count": 7,
     "metadata": {},
     "output_type": "execute_result"
    },
    {
     "data": {
      "text/html": [
       "<div>\n",
       "<style scoped>\n",
       "    .dataframe tbody tr th:only-of-type {\n",
       "        vertical-align: middle;\n",
       "    }\n",
       "\n",
       "    .dataframe tbody tr th {\n",
       "        vertical-align: top;\n",
       "    }\n",
       "\n",
       "    .dataframe thead th {\n",
       "        text-align: right;\n",
       "    }\n",
       "</style>\n",
       "<table border=\"1\" class=\"dataframe\">\n",
       "  <thead>\n",
       "    <tr style=\"text-align: right;\">\n",
       "      <th></th>\n",
       "      <th>user_screen_name</th>\n",
       "      <th>user_description</th>\n",
       "      <th>combined_text</th>\n",
       "      <th>user_location</th>\n",
       "      <th>favorite_count</th>\n",
       "      <th>retweet_count</th>\n",
       "      <th>user_followers_count</th>\n",
       "    </tr>\n",
       "  </thead>\n",
       "  <tbody>\n",
       "    <tr>\n",
       "      <th>0</th>\n",
       "      <td>000120o</td>\n",
       "      <td>italia-roma</td>\n",
       "      <td>meryl streep celebrated breaking glass ceiling...</td>\n",
       "      <td>italia-roma</td>\n",
       "      <td>0.0</td>\n",
       "      <td>19.00</td>\n",
       "      <td>3447.0</td>\n",
       "    </tr>\n",
       "    <tr>\n",
       "      <th>1</th>\n",
       "      <td>0001Angel</td>\n",
       "      <td>liberal</td>\n",
       "      <td>sander `` hillary clinton must become next pre...</td>\n",
       "      <td></td>\n",
       "      <td>0.0</td>\n",
       "      <td>166.00</td>\n",
       "      <td>639.0</td>\n",
       "    </tr>\n",
       "    <tr>\n",
       "      <th>2</th>\n",
       "      <td>000Dillon000</td>\n",
       "      <td>independent christian conservative army vet ar...</td>\n",
       "      <td>muslim talking trump disrespecting woman read ...</td>\n",
       "      <td></td>\n",
       "      <td>0.0</td>\n",
       "      <td>179.50</td>\n",
       "      <td>4181.0</td>\n",
       "    </tr>\n",
       "    <tr>\n",
       "      <th>3</th>\n",
       "      <td>0014Priya</td>\n",
       "      <td>screenwriter yogini movie art book music natur...</td>\n",
       "      <td>latest screenwriting tvseries movie thanks</td>\n",
       "      <td>netherlands</td>\n",
       "      <td>0.0</td>\n",
       "      <td>0.00</td>\n",
       "      <td>524.0</td>\n",
       "    </tr>\n",
       "    <tr>\n",
       "      <th>4</th>\n",
       "      <td>001Leslie</td>\n",
       "      <td>always love dad</td>\n",
       "      <td>wow .. moving touching</td>\n",
       "      <td></td>\n",
       "      <td>0.0</td>\n",
       "      <td>0.00</td>\n",
       "      <td>162.0</td>\n",
       "    </tr>\n",
       "    <tr>\n",
       "      <th>...</th>\n",
       "      <td>...</td>\n",
       "      <td>...</td>\n",
       "      <td>...</td>\n",
       "      <td>...</td>\n",
       "      <td>...</td>\n",
       "      <td>...</td>\n",
       "      <td>...</td>\n",
       "    </tr>\n",
       "    <tr>\n",
       "      <th>246805</th>\n",
       "      <td>zzzdeprived</td>\n",
       "      <td>ohio</td>\n",
       "      <td>amazing job ca wait see win `` america great a...</td>\n",
       "      <td>ohio</td>\n",
       "      <td>0.0</td>\n",
       "      <td>55.50</td>\n",
       "      <td>158.0</td>\n",
       "    </tr>\n",
       "    <tr>\n",
       "      <th>246806</th>\n",
       "      <td>zzzdogman</td>\n",
       "      <td>deplorable dreg cagey old vet- reagan trump ma...</td>\n",
       "      <td>bernie taught anything love money especially e...</td>\n",
       "      <td>colorado</td>\n",
       "      <td>0.0</td>\n",
       "      <td>289.50</td>\n",
       "      <td>11748.5</td>\n",
       "    </tr>\n",
       "    <tr>\n",
       "      <th>246807</th>\n",
       "      <td>zzzpills</td>\n",
       "      <td>lover mother earth bernie sander austin tx</td>\n",
       "      <td>subway filled sandernistas never miss opportun...</td>\n",
       "      <td>austin tx</td>\n",
       "      <td>0.0</td>\n",
       "      <td>273.75</td>\n",
       "      <td>357.0</td>\n",
       "    </tr>\n",
       "    <tr>\n",
       "      <th>246808</th>\n",
       "      <td>zzzzalex</td>\n",
       "      <td></td>\n",
       "      <td>mostly false</td>\n",
       "      <td></td>\n",
       "      <td>0.0</td>\n",
       "      <td>453.00</td>\n",
       "      <td>10.0</td>\n",
       "    </tr>\n",
       "    <tr>\n",
       "      <th>246809</th>\n",
       "      <td>zzzzzabeth</td>\n",
       "      <td>santa clara ca</td>\n",
       "      <td>much stronger together pas torch iconic sister</td>\n",
       "      <td>santa clara ca</td>\n",
       "      <td>0.0</td>\n",
       "      <td>2377.00</td>\n",
       "      <td>278.0</td>\n",
       "    </tr>\n",
       "  </tbody>\n",
       "</table>\n",
       "<p>246810 rows × 7 columns</p>\n",
       "</div>"
      ],
      "text/plain": [
       "       user_screen_name                                   user_description  \\\n",
       "0               000120o                                        italia-roma   \n",
       "1             0001Angel                                          liberal     \n",
       "2          000Dillon000  independent christian conservative army vet ar...   \n",
       "3             0014Priya  screenwriter yogini movie art book music natur...   \n",
       "4             001Leslie                                  always love dad     \n",
       "...                 ...                                                ...   \n",
       "246805      zzzdeprived                                               ohio   \n",
       "246806        zzzdogman  deplorable dreg cagey old vet- reagan trump ma...   \n",
       "246807         zzzpills         lover mother earth bernie sander austin tx   \n",
       "246808         zzzzalex                                                      \n",
       "246809       zzzzzabeth                                     santa clara ca   \n",
       "\n",
       "                                            combined_text   user_location  \\\n",
       "0       meryl streep celebrated breaking glass ceiling...     italia-roma   \n",
       "1       sander `` hillary clinton must become next pre...                   \n",
       "2       muslim talking trump disrespecting woman read ...                   \n",
       "3              latest screenwriting tvseries movie thanks     netherlands   \n",
       "4                                  wow .. moving touching                   \n",
       "...                                                   ...             ...   \n",
       "246805  amazing job ca wait see win `` america great a...            ohio   \n",
       "246806  bernie taught anything love money especially e...        colorado   \n",
       "246807  subway filled sandernistas never miss opportun...       austin tx   \n",
       "246808                                       mostly false                   \n",
       "246809     much stronger together pas torch iconic sister  santa clara ca   \n",
       "\n",
       "        favorite_count  retweet_count  user_followers_count  \n",
       "0                  0.0          19.00                3447.0  \n",
       "1                  0.0         166.00                 639.0  \n",
       "2                  0.0         179.50                4181.0  \n",
       "3                  0.0           0.00                 524.0  \n",
       "4                  0.0           0.00                 162.0  \n",
       "...                ...            ...                   ...  \n",
       "246805             0.0          55.50                 158.0  \n",
       "246806             0.0         289.50               11748.5  \n",
       "246807             0.0         273.75                 357.0  \n",
       "246808             0.0         453.00                  10.0  \n",
       "246809             0.0        2377.00                 278.0  \n",
       "\n",
       "[246810 rows x 7 columns]"
      ]
     },
     "execution_count": 7,
     "metadata": {},
     "output_type": "execute_result"
    }
   ],
   "source": [
    "#group by username and select only the text columns\n",
    "combined_text = final_df.groupby(['user_screen_name']).apply(lambda x: ' '.join(x['text']))\n",
    "combined_text.rename('combined_text',inplace=True)\n",
    "final_df = final_df.merge(combined_text, left_on='user_screen_name',right_index=True)\n",
    "#new df for user summaries\n",
    "user_summary = final_df.groupby(['user_screen_name', 'user_description', 'combined_text', 'user_location']).mean() \n",
    "user_summary.reset_index(inplace=True)\n",
    "user_summary"
   ]
  },
  {
   "cell_type": "code",
   "execution_count": 8,
   "metadata": {},
   "outputs": [
    {
     "data": {
      "text/plain": [
       "105.28022365382277"
      ]
     },
     "execution_count": 8,
     "metadata": {},
     "output_type": "execute_result"
    }
   ],
   "source": [
    "user_summary.combined_text.apply(lambda x: len(x)).mean()\n",
    "# the average combined text length is 128 chars (standard length of a tweet)"
   ]
  },
  {
   "cell_type": "code",
   "execution_count": 9,
   "metadata": {},
   "outputs": [
    {
     "data": {
      "text/html": [
       "<div>\n",
       "<style scoped>\n",
       "    .dataframe tbody tr th:only-of-type {\n",
       "        vertical-align: middle;\n",
       "    }\n",
       "\n",
       "    .dataframe tbody tr th {\n",
       "        vertical-align: top;\n",
       "    }\n",
       "\n",
       "    .dataframe thead th {\n",
       "        text-align: right;\n",
       "    }\n",
       "</style>\n",
       "<table border=\"1\" class=\"dataframe\">\n",
       "  <thead>\n",
       "    <tr style=\"text-align: right;\">\n",
       "      <th></th>\n",
       "      <th>user_screen_name</th>\n",
       "      <th>user_description</th>\n",
       "      <th>combined_text</th>\n",
       "      <th>user_location</th>\n",
       "      <th>favorite_count</th>\n",
       "      <th>retweet_count</th>\n",
       "      <th>user_followers_count</th>\n",
       "    </tr>\n",
       "  </thead>\n",
       "  <tbody>\n",
       "  </tbody>\n",
       "</table>\n",
       "</div>"
      ],
      "text/plain": [
       "Empty DataFrame\n",
       "Columns: [user_screen_name, user_description, combined_text, user_location, favorite_count, retweet_count, user_followers_count]\n",
       "Index: []"
      ]
     },
     "execution_count": 9,
     "metadata": {},
     "output_type": "execute_result"
    }
   ],
   "source": [
    "# how many users are missing descriptions? 38,602\n",
    "user_summary[user_summary['user_description']==' ']"
   ]
  },
  {
   "cell_type": "markdown",
   "metadata": {},
   "source": [
    "# Vectorize Tweet Text\n",
    "(using Gensim + GloVe)"
   ]
  },
  {
   "cell_type": "code",
   "execution_count": 10,
   "metadata": {},
   "outputs": [
    {
     "name": "stdout",
     "output_type": "stream",
     "text": [
      "Requirement already satisfied: gensim in /opt/conda/lib/python3.7/site-packages (3.8.3)\n",
      "Requirement already satisfied: smart-open>=1.8.1 in /opt/conda/lib/python3.7/site-packages (from gensim) (2.0.0)\n",
      "Requirement already satisfied: six>=1.5.0 in /opt/conda/lib/python3.7/site-packages (from gensim) (1.14.0)\n",
      "Requirement already satisfied: scipy>=0.18.1 in /opt/conda/lib/python3.7/site-packages (from gensim) (1.4.1)\n",
      "Requirement already satisfied: numpy>=1.11.3 in /opt/conda/lib/python3.7/site-packages (from gensim) (1.18.1)\n",
      "Requirement already satisfied: boto in /opt/conda/lib/python3.7/site-packages (from smart-open>=1.8.1->gensim) (2.49.0)\n",
      "Requirement already satisfied: requests in /opt/conda/lib/python3.7/site-packages (from smart-open>=1.8.1->gensim) (2.22.0)\n",
      "Requirement already satisfied: boto3 in /opt/conda/lib/python3.7/site-packages (from smart-open>=1.8.1->gensim) (1.13.16)\n",
      "Requirement already satisfied: certifi>=2017.4.17 in /opt/conda/lib/python3.7/site-packages (from requests->smart-open>=1.8.1->gensim) (2019.11.28)\n",
      "Requirement already satisfied: idna<2.9,>=2.5 in /opt/conda/lib/python3.7/site-packages (from requests->smart-open>=1.8.1->gensim) (2.8)\n",
      "Requirement already satisfied: chardet<3.1.0,>=3.0.2 in /opt/conda/lib/python3.7/site-packages (from requests->smart-open>=1.8.1->gensim) (3.0.4)\n",
      "Requirement already satisfied: urllib3!=1.25.0,!=1.25.1,<1.26,>=1.21.1 in /opt/conda/lib/python3.7/site-packages (from requests->smart-open>=1.8.1->gensim) (1.25.8)\n",
      "Requirement already satisfied: jmespath<1.0.0,>=0.7.1 in /opt/conda/lib/python3.7/site-packages (from boto3->smart-open>=1.8.1->gensim) (0.10.0)\n",
      "Requirement already satisfied: s3transfer<0.4.0,>=0.3.0 in /opt/conda/lib/python3.7/site-packages (from boto3->smart-open>=1.8.1->gensim) (0.3.3)\n",
      "Requirement already satisfied: botocore<1.17.0,>=1.16.16 in /opt/conda/lib/python3.7/site-packages (from boto3->smart-open>=1.8.1->gensim) (1.16.16)\n",
      "Requirement already satisfied: python-dateutil<3.0.0,>=2.1 in /opt/conda/lib/python3.7/site-packages (from botocore<1.17.0,>=1.16.16->boto3->smart-open>=1.8.1->gensim) (2.8.1)\n",
      "Requirement already satisfied: docutils<0.16,>=0.10 in /opt/conda/lib/python3.7/site-packages (from botocore<1.17.0,>=1.16.16->boto3->smart-open>=1.8.1->gensim) (0.15.2)\n"
     ]
    }
   ],
   "source": [
    "!pip install gensim"
   ]
  },
  {
   "cell_type": "code",
   "execution_count": 11,
   "metadata": {},
   "outputs": [],
   "source": [
    "import logging\n",
    "logging.basicConfig(format='%(asctime)s : %(levelname)s : %(message)s', level=logging.INFO)\n",
    "import gensim.downloader as api\n",
    "import gensim\n",
    "from gensim.models.word2vec import Word2Vec"
   ]
  },
  {
   "cell_type": "code",
   "execution_count": 12,
   "metadata": {},
   "outputs": [
    {
     "name": "stderr",
     "output_type": "stream",
     "text": [
      "2020-06-10 21:42:03,300 : INFO : loading projection weights from /root/gensim-data/glove-twitter-25/glove-twitter-25.gz\n",
      "2020-06-10 21:42:37,375 : INFO : loaded (1193514, 25) matrix from /root/gensim-data/glove-twitter-25/glove-twitter-25.gz\n",
      "2020-06-10 21:42:37,486 : INFO : loading projection weights from /root/gensim-data/glove-twitter-200/glove-twitter-200.gz\n",
      "2020-06-10 21:46:09,117 : INFO : loaded (1193514, 200) matrix from /root/gensim-data/glove-twitter-200/glove-twitter-200.gz\n"
     ]
    }
   ],
   "source": [
    "#start with the glove-25 and increase if needed (50, 100, 200 available)\n",
    "glove_25 = api.load('glove-twitter-25')\n",
    "glove_100 = api.load('glove-twitter-200')"
   ]
  },
  {
   "cell_type": "code",
   "execution_count": 13,
   "metadata": {},
   "outputs": [
    {
     "name": "stderr",
     "output_type": "stream",
     "text": [
      "2020-06-10 21:46:09,124 : INFO : precomputing L2-norms of word weight vectors\n"
     ]
    },
    {
     "data": {
      "text/plain": [
       "[('troy', 0.9075865745544434),\n",
       " ('madison', 0.8607248067855835),\n",
       " ('savannah', 0.8565793037414551),\n",
       " ('charlotte', 0.8528245687484741),\n",
       " ('sierra', 0.8500258326530457),\n",
       " ('chester', 0.848908543586731),\n",
       " ('clark', 0.8480731844902039),\n",
       " ('orlando', 0.835505485534668),\n",
       " ('mills', 0.8341056108474731),\n",
       " ('jax', 0.8334002494812012)]"
      ]
     },
     "execution_count": 13,
     "metadata": {},
     "output_type": "execute_result"
    },
    {
     "data": {
      "text/plain": [
       "[('hillary', 0.967746376991272),\n",
       " ('kerry', 0.9634538292884827),\n",
       " ('christie', 0.9525367021560669),\n",
       " ('barack', 0.9524132013320923),\n",
       " ('president', 0.9378829598426819),\n",
       " ('reid', 0.9331226944923401),\n",
       " ('obama', 0.928589940071106),\n",
       " ('biden', 0.9253028631210327),\n",
       " ('reagan', 0.9235118627548218),\n",
       " ('jonathan', 0.9217425584793091)]"
      ]
     },
     "execution_count": 13,
     "metadata": {},
     "output_type": "execute_result"
    },
    {
     "data": {
      "text/plain": [
       "array([-0.56174 ,  0.69419 ,  0.16733 ,  0.055867, -0.26266 , -0.6303  ,\n",
       "       -0.28311 , -0.88244 ,  0.57317 , -0.82376 ,  0.46728 ,  0.48607 ,\n",
       "       -2.1942  , -0.41972 ,  0.31795 , -0.70063 ,  0.060693,  0.45279 ,\n",
       "        0.6564  ,  0.20738 ,  0.84496 , -0.087537, -0.38856 , -0.97028 ,\n",
       "       -0.40427 ], dtype=float32)"
      ]
     },
     "execution_count": 13,
     "metadata": {},
     "output_type": "execute_result"
    }
   ],
   "source": [
    "# take a look at the vocabulary\n",
    "#for i, word in enumerate(glove_25.vocab):\n",
    "#    if i == 20:\n",
    "#        break\n",
    "#    print(word)\n",
    "    \n",
    "glove_25.most_similar(['trump', 'maga'])\n",
    "glove_25.most_similar(['clinton'])\n",
    "glove_25['trump']\n",
    "\n",
    "\n",
    "# try to vectorize a word\n",
    "#sample_text = user_summary['combined_text'][0].split()\n",
    "#sample_text\n",
    "#glove_25.word_vec(sample_text[0])\n"
   ]
  },
  {
   "cell_type": "code",
   "execution_count": 14,
   "metadata": {},
   "outputs": [
    {
     "name": "stderr",
     "output_type": "stream",
     "text": [
      "/opt/conda/lib/python3.7/site-packages/ipykernel_launcher.py:18: DeprecationWarning: elementwise comparison failed; this will raise an error in the future.\n"
     ]
    }
   ],
   "source": [
    "#write a function to loop through tweets and vectorize each word\n",
    "sentences = user_summary['combined_text']\n",
    "\n",
    "model = glove_25\n",
    "\n",
    "def sent_vectorizer(sent, model):\n",
    "    sent_vec =[]\n",
    "    numw = 0\n",
    "    for w in sent:\n",
    "        try:\n",
    "            if numw == 0:\n",
    "                sent_vec = model[w]\n",
    "            else:\n",
    "                sent_vec = np.add(sent_vec, model[w])\n",
    "            numw+=1\n",
    "        except:\n",
    "            pass\n",
    "    if sent_vec == []:\n",
    "        return np.zeros((25,))\n",
    "    else:\n",
    "        return np.asarray(sent_vec) / numw\n",
    "\n",
    "X=[]\n",
    "for sentence in sentences:\n",
    "    X.append(sent_vectorizer(sentence, model))"
   ]
  },
  {
   "cell_type": "code",
   "execution_count": 15,
   "metadata": {},
   "outputs": [
    {
     "data": {
      "text/plain": [
       "array([ 0.6405283 ,  0.18502013, -0.25252876, -0.4381471 , -0.1547939 ,\n",
       "        0.05634296, -0.08397209,  1.7334558 ,  0.17192627, -0.03527125,\n",
       "       -0.6694735 , -0.91430247, -3.8706784 ,  0.04821457, -0.8953895 ,\n",
       "       -0.39318782, -0.96859694, -0.03069654, -1.0092835 ,  0.41093636,\n",
       "       -0.35343733, -0.46934995,  0.3778637 ,  0.29600564,  0.22051191],\n",
       "      dtype=float32)"
      ]
     },
     "execution_count": 15,
     "metadata": {},
     "output_type": "execute_result"
    }
   ],
   "source": [
    "X[157841]"
   ]
  },
  {
   "cell_type": "code",
   "execution_count": null,
   "metadata": {},
   "outputs": [],
   "source": [
    "shapes = {arr.shape for arr in X}\n",
    "shapes\n",
    "\n",
    "indexes = [arr.shape == (0,) for arr in X]\n",
    "#indexes.index(True)\n",
    "\n",
    "user_summary.iloc[157841]['combined_text']\n",
    "\n",
    "#glove_25['27']"
   ]
  },
  {
   "cell_type": "code",
   "execution_count": 17,
   "metadata": {},
   "outputs": [
    {
     "data": {
      "text/plain": [
       "(246810, 25)"
      ]
     },
     "execution_count": 17,
     "metadata": {},
     "output_type": "execute_result"
    }
   ],
   "source": [
    "X2 = np.stack(X)\n",
    "X2.shape"
   ]
  },
  {
   "cell_type": "markdown",
   "metadata": {},
   "source": [
    "### Experiment with # of clusters"
   ]
  },
  {
   "cell_type": "raw",
   "metadata": {},
   "source": [
    "import numpy as np \n",
    "from sklearn import cluster\n",
    "from sklearn import metrics\n",
    "\n",
    "\n",
    "NUM_CLUSTERS=10\n",
    "\n",
    "kmeans = cluster.KMeans(n_clusters=NUM_CLUSTERS)\n",
    "kmeans.fit(X)"
   ]
  },
  {
   "cell_type": "raw",
   "metadata": {},
   "source": [
    "labels = kmeans.labels_\n",
    "centroids = kmeans.cluster_centers_\n",
    "  \n",
    "print (\"Cluster id labels for inputted data\")\n",
    "print (labels)\n",
    "#print (\"Centroids data\")\n",
    "#print (centroids)\n",
    "  \n",
    "print (\"Score (Opposite of the value of X on the K-means objective which is Sum of distances of samples to their closest cluster center):\")\n",
    "print (kmeans.score(X))\n",
    "  \n",
    "silhouette_score = metrics.silhouette_score(X, labels, metric='euclidean')\n",
    "  \n",
    "print (\"Silhouette_score: \")\n",
    "print (silhouette_score)"
   ]
  },
  {
   "cell_type": "markdown",
   "metadata": {},
   "source": [
    "# Cluster Users"
   ]
  },
  {
   "cell_type": "code",
   "execution_count": 18,
   "metadata": {},
   "outputs": [
    {
     "data": {
      "text/plain": [
       "KMeans(algorithm='auto', copy_x=True, init='k-means++', max_iter=300,\n",
       "       n_clusters=10, n_init=10, n_jobs=None, precompute_distances='auto',\n",
       "       random_state=None, tol=0.0001, verbose=0)"
      ]
     },
     "execution_count": 18,
     "metadata": {},
     "output_type": "execute_result"
    }
   ],
   "source": [
    "import numpy as np \n",
    "from sklearn import cluster\n",
    "from sklearn import metrics\n",
    "\n",
    "\n",
    "NUM_CLUSTERS=10\n",
    "\n",
    "kmeans = cluster.KMeans(n_clusters=NUM_CLUSTERS)\n",
    "kmeans.fit(X)"
   ]
  },
  {
   "cell_type": "code",
   "execution_count": 19,
   "metadata": {},
   "outputs": [
    {
     "name": "stdout",
     "output_type": "stream",
     "text": [
      "Cluster id labels for inputted data\n",
      "[0 8 8 ... 8 5 1]\n",
      "Score (Opposite of the value of X on the K-means objective which is Sum of distances of samples to their closest cluster center):\n",
      "-36013.5800265956\n",
      "Silhouette_score: \n",
      "0.07129748825741677\n"
     ]
    }
   ],
   "source": [
    "labels = kmeans.labels_\n",
    "centroids = kmeans.cluster_centers_\n",
    "  \n",
    "print (\"Cluster id labels for inputted data\")\n",
    "print (labels)\n",
    "#print (\"Centroids data\")\n",
    "#print (centroids)\n",
    "  \n",
    "print (\"Score (Opposite of the value of X on the K-means objective which is Sum of distances of samples to their closest cluster center):\")\n",
    "print (kmeans.score(X))\n",
    "  \n",
    "silhouette_score = metrics.silhouette_score(X, labels, metric='euclidean')\n",
    "  \n",
    "print (\"Silhouette_score: \")\n",
    "print (silhouette_score)"
   ]
  },
  {
   "cell_type": "code",
   "execution_count": 20,
   "metadata": {},
   "outputs": [
    {
     "data": {
      "text/plain": [
       "(246810,)"
      ]
     },
     "execution_count": 20,
     "metadata": {},
     "output_type": "execute_result"
    }
   ],
   "source": [
    "labels.shape"
   ]
  },
  {
   "cell_type": "code",
   "execution_count": 21,
   "metadata": {},
   "outputs": [
    {
     "data": {
      "text/html": [
       "<div>\n",
       "<style scoped>\n",
       "    .dataframe tbody tr th:only-of-type {\n",
       "        vertical-align: middle;\n",
       "    }\n",
       "\n",
       "    .dataframe tbody tr th {\n",
       "        vertical-align: top;\n",
       "    }\n",
       "\n",
       "    .dataframe thead th {\n",
       "        text-align: right;\n",
       "    }\n",
       "</style>\n",
       "<table border=\"1\" class=\"dataframe\">\n",
       "  <thead>\n",
       "    <tr style=\"text-align: right;\">\n",
       "      <th></th>\n",
       "      <th>user_screen_name</th>\n",
       "      <th>user_description</th>\n",
       "      <th>combined_text</th>\n",
       "      <th>user_location</th>\n",
       "      <th>favorite_count</th>\n",
       "      <th>retweet_count</th>\n",
       "      <th>user_followers_count</th>\n",
       "      <th>cluster</th>\n",
       "    </tr>\n",
       "  </thead>\n",
       "  <tbody>\n",
       "    <tr>\n",
       "      <th>0</th>\n",
       "      <td>000120o</td>\n",
       "      <td>italia-roma</td>\n",
       "      <td>meryl streep celebrated breaking glass ceiling...</td>\n",
       "      <td>italia-roma</td>\n",
       "      <td>0.0</td>\n",
       "      <td>19.0</td>\n",
       "      <td>3447.0</td>\n",
       "      <td>0</td>\n",
       "    </tr>\n",
       "    <tr>\n",
       "      <th>1</th>\n",
       "      <td>0001Angel</td>\n",
       "      <td>liberal</td>\n",
       "      <td>sander `` hillary clinton must become next pre...</td>\n",
       "      <td></td>\n",
       "      <td>0.0</td>\n",
       "      <td>166.0</td>\n",
       "      <td>639.0</td>\n",
       "      <td>8</td>\n",
       "    </tr>\n",
       "    <tr>\n",
       "      <th>2</th>\n",
       "      <td>000Dillon000</td>\n",
       "      <td>independent christian conservative army vet ar...</td>\n",
       "      <td>muslim talking trump disrespecting woman read ...</td>\n",
       "      <td></td>\n",
       "      <td>0.0</td>\n",
       "      <td>179.5</td>\n",
       "      <td>4181.0</td>\n",
       "      <td>8</td>\n",
       "    </tr>\n",
       "    <tr>\n",
       "      <th>3</th>\n",
       "      <td>0014Priya</td>\n",
       "      <td>screenwriter yogini movie art book music natur...</td>\n",
       "      <td>latest screenwriting tvseries movie thanks</td>\n",
       "      <td>netherlands</td>\n",
       "      <td>0.0</td>\n",
       "      <td>0.0</td>\n",
       "      <td>524.0</td>\n",
       "      <td>0</td>\n",
       "    </tr>\n",
       "    <tr>\n",
       "      <th>4</th>\n",
       "      <td>001Leslie</td>\n",
       "      <td>always love dad</td>\n",
       "      <td>wow .. moving touching</td>\n",
       "      <td></td>\n",
       "      <td>0.0</td>\n",
       "      <td>0.0</td>\n",
       "      <td>162.0</td>\n",
       "      <td>3</td>\n",
       "    </tr>\n",
       "  </tbody>\n",
       "</table>\n",
       "</div>"
      ],
      "text/plain": [
       "  user_screen_name                                   user_description  \\\n",
       "0          000120o                                        italia-roma   \n",
       "1        0001Angel                                          liberal     \n",
       "2     000Dillon000  independent christian conservative army vet ar...   \n",
       "3        0014Priya  screenwriter yogini movie art book music natur...   \n",
       "4        001Leslie                                  always love dad     \n",
       "\n",
       "                                       combined_text user_location  \\\n",
       "0  meryl streep celebrated breaking glass ceiling...   italia-roma   \n",
       "1  sander `` hillary clinton must become next pre...                 \n",
       "2  muslim talking trump disrespecting woman read ...                 \n",
       "3         latest screenwriting tvseries movie thanks   netherlands   \n",
       "4                             wow .. moving touching                 \n",
       "\n",
       "   favorite_count  retweet_count  user_followers_count  cluster  \n",
       "0             0.0           19.0                3447.0        0  \n",
       "1             0.0          166.0                 639.0        8  \n",
       "2             0.0          179.5                4181.0        8  \n",
       "3             0.0            0.0                 524.0        0  \n",
       "4             0.0            0.0                 162.0        3  "
      ]
     },
     "execution_count": 21,
     "metadata": {},
     "output_type": "execute_result"
    }
   ],
   "source": [
    "# join cluster labels on the user_summary dataframe\n",
    "user_summary['cluster'] = labels\n",
    "user_summary.head()"
   ]
  },
  {
   "cell_type": "code",
   "execution_count": 22,
   "metadata": {},
   "outputs": [
    {
     "name": "stdout",
     "output_type": "stream",
     "text": [
      "0: 48890\n",
      "1: 35759\n",
      "2: 36455\n",
      "3: 8950\n",
      "4: 10828\n",
      "5: 3641\n",
      "6: 19657\n",
      "7: 522\n",
      "8: 60417\n",
      "9: 21691\n",
      "0: 19.808759774725498 %\n",
      "1: 14.488472914387584 %\n",
      "2: 14.770471212673716 %\n",
      "3: 3.6262712207771157 %\n",
      "4: 4.387180422187107 %\n",
      "5: 1.475223856407763 %\n",
      "6: 7.964426076739192 %\n",
      "7: 0.21149872371459827 %\n",
      "8: 24.47915400510514 %\n",
      "9: 8.788541793282281 %\n"
     ]
    }
   ],
   "source": [
    "#sizes of clusters\n",
    "label_set = list(set(labels))\n",
    "for label in label_set:\n",
    "    print('{}:'.format(label), user_summary[user_summary['cluster'] == label].shape[0])\n",
    "    \n",
    "label_set.sort()\n",
    "for label in label_set:\n",
    "    print('{}:'.format(label), (user_summary[user_summary['cluster'] == float(label)].shape[0] / user_summary.shape[0])*100, '%')"
   ]
  },
  {
   "cell_type": "markdown",
   "metadata": {},
   "source": [
    "### Save labeled cluster use_summary"
   ]
  },
  {
   "cell_type": "code",
   "execution_count": 23,
   "metadata": {},
   "outputs": [],
   "source": [
    "user_summary.to_csv('data/clustered_user_summary.csv')"
   ]
  },
  {
   "cell_type": "markdown",
   "metadata": {},
   "source": [
    "### TF-IDF to get topics for clusters:"
   ]
  },
  {
   "cell_type": "code",
   "execution_count": 24,
   "metadata": {},
   "outputs": [],
   "source": [
    "# tf-idf on clusters to get topics \n",
    "\n",
    "from sklearn.feature_extraction.text import TfidfVectorizer\n",
    "from sklearn import metrics\n",
    "from sklearn.model_selection import train_test_split\n",
    "from sklearn.linear_model import LogisticRegression, SGDClassifier\n",
    "from sklearn.ensemble import RandomForestClassifier\n",
    "from sklearn.naive_bayes import BernoulliNB, ComplementNB, MultinomialNB\n",
    "from sklearn.metrics import confusion_matrix, plot_confusion_matrix\n",
    "\n",
    "vectorizer = TfidfVectorizer(max_features=10000)\n",
    "\n",
    "\n",
    "X = user_summary['user_description'] + ' ' + user_summary['combined_text']\n",
    "y = user_summary['cluster']\n",
    "\n",
    "X_train, X_test, y_train, y_test = train_test_split(X,y, stratify=y)\n",
    "\n",
    "X_train = vectorizer.fit_transform(X_train)\n",
    "X_test = vectorizer.transform(X_test)"
   ]
  },
  {
   "cell_type": "code",
   "execution_count": 25,
   "metadata": {},
   "outputs": [
    {
     "data": {
      "text/plain": [
       "0      italia-roma meryl streep celebrated breaking...\n",
       "1    liberal   sander `` hillary clinton must becom...\n",
       "2    independent christian conservative army vet ar...\n",
       "3    screenwriter yogini movie art book music natur...\n",
       "4             always love dad   wow .. moving touching\n",
       "dtype: object"
      ]
     },
     "execution_count": 25,
     "metadata": {},
     "output_type": "execute_result"
    }
   ],
   "source": [
    "X.head()"
   ]
  },
  {
   "cell_type": "code",
   "execution_count": 26,
   "metadata": {},
   "outputs": [
    {
     "data": {
      "text/plain": [
       "3836202"
      ]
     },
     "execution_count": 26,
     "metadata": {},
     "output_type": "execute_result"
    },
    {
     "data": {
      "text/plain": [
       "(185107, 10000)"
      ]
     },
     "execution_count": 26,
     "metadata": {},
     "output_type": "execute_result"
    },
    {
     "data": {
      "text/plain": [
       "10000"
      ]
     },
     "execution_count": 26,
     "metadata": {},
     "output_type": "execute_result"
    }
   ],
   "source": [
    "X_train.size\n",
    "X_train.shape\n",
    "feature_names=vectorizer.get_feature_names()\n",
    "len(feature_names)\n",
    "# for reference, community df shape = (19724, 65248) size = 814271"
   ]
  },
  {
   "cell_type": "code",
   "execution_count": 27,
   "metadata": {},
   "outputs": [
    {
     "data": {
      "text/html": [
       "<div>\n",
       "<style scoped>\n",
       "    .dataframe tbody tr th:only-of-type {\n",
       "        vertical-align: middle;\n",
       "    }\n",
       "\n",
       "    .dataframe tbody tr th {\n",
       "        vertical-align: top;\n",
       "    }\n",
       "\n",
       "    .dataframe thead th {\n",
       "        text-align: right;\n",
       "    }\n",
       "</style>\n",
       "<table border=\"1\" class=\"dataframe\">\n",
       "  <thead>\n",
       "    <tr style=\"text-align: right;\">\n",
       "      <th></th>\n",
       "      <th>feature</th>\n",
       "      <th>tfidf</th>\n",
       "    </tr>\n",
       "  </thead>\n",
       "  <tbody>\n",
       "    <tr>\n",
       "      <th>0</th>\n",
       "      <td>hahahaha</td>\n",
       "      <td>0.340110</td>\n",
       "    </tr>\n",
       "    <tr>\n",
       "      <th>1</th>\n",
       "      <td>wet</td>\n",
       "      <td>0.339530</td>\n",
       "    </tr>\n",
       "    <tr>\n",
       "      <th>2</th>\n",
       "      <td>neutral</td>\n",
       "      <td>0.302275</td>\n",
       "    </tr>\n",
       "    <tr>\n",
       "      <th>3</th>\n",
       "      <td>streaming</td>\n",
       "      <td>0.297610</td>\n",
       "    </tr>\n",
       "    <tr>\n",
       "      <th>4</th>\n",
       "      <td>bathroom</td>\n",
       "      <td>0.276601</td>\n",
       "    </tr>\n",
       "    <tr>\n",
       "      <th>5</th>\n",
       "      <td>holy</td>\n",
       "      <td>0.264886</td>\n",
       "    </tr>\n",
       "    <tr>\n",
       "      <th>6</th>\n",
       "      <td>ball</td>\n",
       "      <td>0.264565</td>\n",
       "    </tr>\n",
       "    <tr>\n",
       "      <th>7</th>\n",
       "      <td>beer</td>\n",
       "      <td>0.248978</td>\n",
       "    </tr>\n",
       "    <tr>\n",
       "      <th>8</th>\n",
       "      <td>gender</td>\n",
       "      <td>0.248661</td>\n",
       "    </tr>\n",
       "    <tr>\n",
       "      <th>9</th>\n",
       "      <td>water</td>\n",
       "      <td>0.236556</td>\n",
       "    </tr>\n",
       "    <tr>\n",
       "      <th>10</th>\n",
       "      <td>go</td>\n",
       "      <td>0.220385</td>\n",
       "    </tr>\n",
       "    <tr>\n",
       "      <th>11</th>\n",
       "      <td>shit</td>\n",
       "      <td>0.218556</td>\n",
       "    </tr>\n",
       "    <tr>\n",
       "      <th>12</th>\n",
       "      <td>russia</td>\n",
       "      <td>0.210535</td>\n",
       "    </tr>\n",
       "    <tr>\n",
       "      <th>13</th>\n",
       "      <td>today</td>\n",
       "      <td>0.179781</td>\n",
       "    </tr>\n",
       "    <tr>\n",
       "      <th>14</th>\n",
       "      <td>life</td>\n",
       "      <td>0.140257</td>\n",
       "    </tr>\n",
       "    <tr>\n",
       "      <th>15</th>\n",
       "      <td>fake</td>\n",
       "      <td>0.000000</td>\n",
       "    </tr>\n",
       "    <tr>\n",
       "      <th>16</th>\n",
       "      <td>faithful</td>\n",
       "      <td>0.000000</td>\n",
       "    </tr>\n",
       "    <tr>\n",
       "      <th>17</th>\n",
       "      <td>faith</td>\n",
       "      <td>0.000000</td>\n",
       "    </tr>\n",
       "    <tr>\n",
       "      <th>18</th>\n",
       "      <td>fait</td>\n",
       "      <td>0.000000</td>\n",
       "    </tr>\n",
       "    <tr>\n",
       "      <th>19</th>\n",
       "      <td>zu</td>\n",
       "      <td>0.000000</td>\n",
       "    </tr>\n",
       "    <tr>\n",
       "      <th>20</th>\n",
       "      <td>fairy</td>\n",
       "      <td>0.000000</td>\n",
       "    </tr>\n",
       "    <tr>\n",
       "      <th>21</th>\n",
       "      <td>fairness</td>\n",
       "      <td>0.000000</td>\n",
       "    </tr>\n",
       "    <tr>\n",
       "      <th>22</th>\n",
       "      <td>fairly</td>\n",
       "      <td>0.000000</td>\n",
       "    </tr>\n",
       "    <tr>\n",
       "      <th>23</th>\n",
       "      <td>falcon</td>\n",
       "      <td>0.000000</td>\n",
       "    </tr>\n",
       "    <tr>\n",
       "      <th>24</th>\n",
       "      <td>fairfield</td>\n",
       "      <td>0.000000</td>\n",
       "    </tr>\n",
       "  </tbody>\n",
       "</table>\n",
       "</div>"
      ],
      "text/plain": [
       "      feature     tfidf\n",
       "0    hahahaha  0.340110\n",
       "1         wet  0.339530\n",
       "2     neutral  0.302275\n",
       "3   streaming  0.297610\n",
       "4    bathroom  0.276601\n",
       "5        holy  0.264886\n",
       "6        ball  0.264565\n",
       "7        beer  0.248978\n",
       "8      gender  0.248661\n",
       "9       water  0.236556\n",
       "10         go  0.220385\n",
       "11       shit  0.218556\n",
       "12     russia  0.210535\n",
       "13      today  0.179781\n",
       "14       life  0.140257\n",
       "15       fake  0.000000\n",
       "16   faithful  0.000000\n",
       "17      faith  0.000000\n",
       "18       fait  0.000000\n",
       "19         zu  0.000000\n",
       "20      fairy  0.000000\n",
       "21   fairness  0.000000\n",
       "22     fairly  0.000000\n",
       "23     falcon  0.000000\n",
       "24  fairfield  0.000000"
      ]
     },
     "execution_count": 27,
     "metadata": {},
     "output_type": "execute_result"
    }
   ],
   "source": [
    "# Plot top tf-idf features\n",
    "# Author: Peter Prettenhofer <peter.prettenhofer@gmail.com>\n",
    "#         Olivier Grisel <olivier.grisel@ensta.org>\n",
    "#         Mathieu Blondel <mathieu@mblondel.org>\n",
    "#         Lars Buitinck\n",
    "# License: BSD 3 clause\n",
    "\n",
    "import matplotlib.pyplot as plt\n",
    "import logging\n",
    "import numpy as np\n",
    "from optparse import OptionParser\n",
    "import sys\n",
    "from time import time\n",
    "\n",
    "\n",
    "def top_tfidf_feats(row, features, top_n=25):\n",
    "    ''' Get top n tfidf values in row and return them with their corresponding feature names.'''\n",
    "    topn_ids = np.argsort(row)[::-1][:top_n]\n",
    "    top_feats = [(features[i], row[i]) for i in topn_ids]\n",
    "    df = pd.DataFrame(top_feats)\n",
    "    df.columns = ['feature', 'tfidf']\n",
    "    return df\n",
    "\n",
    "def top_feats_in_doc(Xtr, features, row_id, top_n=25):\n",
    "    row = np.squeeze(Xtr[row_id].toarray())\n",
    "    return top_tfidf_feats(row, features, top_n)\n",
    "\n",
    "feature_names=vectorizer.get_feature_names()\n",
    "top_feats_in_doc(X_train,feature_names,1)"
   ]
  },
  {
   "cell_type": "code",
   "execution_count": null,
   "metadata": {},
   "outputs": [],
   "source": []
  },
  {
   "cell_type": "code",
   "execution_count": 28,
   "metadata": {},
   "outputs": [],
   "source": [
    "def top_mean_feats(Xtr, features, grp_ids=None, min_tfidf=0.1, top_n=25):\n",
    "    ''' Return the top n features that on average are most important amongst documents in rows\n",
    "        indentified by indices in grp_ids. '''\n",
    "    if grp_ids:\n",
    "        D = Xtr[grp_ids].toarray()\n",
    "    else:\n",
    "        D = Xtr.toarray()\n",
    "\n",
    "    D[D < min_tfidf] = 0\n",
    "    tfidf_means = np.mean(D, axis=0)\n",
    "    return top_tfidf_feats(tfidf_means, features, top_n)\n",
    "\n",
    "def top_feats_by_class(Xtr, y, features, min_tfidf=0.1, top_n=25):\n",
    "    ''' Return a list of dfs, where each df holds top_n features and their mean tfidf value\n",
    "        calculated across documents with the same class label. '''\n",
    "    dfs = []\n",
    "    labels = np.unique(y)\n",
    "    for label in labels:\n",
    "        ids = np.where(y==label)\n",
    "        feats_df = top_mean_feats(Xtr, features, ids, min_tfidf=min_tfidf, top_n=top_n)\n",
    "        feats_df.label = label\n",
    "        dfs.append(feats_df)\n",
    "    return dfs\n",
    "dfs=top_feats_by_class(X_train,y_train,feature_names, top_n=25)"
   ]
  },
  {
   "cell_type": "code",
   "execution_count": 29,
   "metadata": {},
   "outputs": [
    {
     "data": {
      "text/plain": [
       "10"
      ]
     },
     "execution_count": 29,
     "metadata": {},
     "output_type": "execute_result"
    }
   ],
   "source": [
    "len(dfs)"
   ]
  },
  {
   "cell_type": "code",
   "execution_count": 30,
   "metadata": {},
   "outputs": [
    {
     "data": {
      "image/png": "[encoded data removed]",
      "text/plain": [
       "<Figure size 2592x1944 with 10 Axes>"
      ]
     },
     "metadata": {},
     "output_type": "display_data"
    }
   ],
   "source": [
    "def plot_tfidf_classfeats_h(dfs):\n",
    "    ''' Plot the data frames returned by the function plot_tfidf_classfeats(). '''\n",
    "    fig = plt.figure(figsize=(36, 27), facecolor=\"w\",)\n",
    "    x = np.arange(len(dfs[0]))\n",
    "    for i, df in enumerate(dfs):\n",
    "        ax = fig.add_subplot(1, len(dfs), i+1)\n",
    "        ax.spines[\"top\"].set_visible(False)\n",
    "        ax.spines[\"right\"].set_visible(False)\n",
    "        ax.set_frame_on(False)\n",
    "        ax.get_xaxis().tick_bottom()\n",
    "        ax.get_yaxis().tick_left()\n",
    "        ax.set_xlabel(\"Mean Tf-Idf Score\", labelpad=16, fontsize=14)\n",
    "        ax.set_title(\"label = \" + str(df.label), fontsize=16)\n",
    "        ax.ticklabel_format(axis='x', style='sci', scilimits=(-2,2))\n",
    "        ax.barh(x, df.tfidf, align='center')\n",
    "        ax.set_yticks(x)\n",
    "        ax.set_ylim([-1, x[-1]+1])\n",
    "        yticks = ax.set_yticklabels(df.feature)\n",
    "        plt.subplots_adjust(bottom=0.09, right=0.97, left=0.15, top=0.95, wspace=0.52)\n",
    "    plt.set_cmap('viridis')\n",
    "    plt.savefig('data/10_clusters_tfidf.png', dpi=240)\n",
    "    plt.show()\n",
    "\n",
    "plot_tfidf_classfeats_h(dfs)"
   ]
  },
  {
   "cell_type": "raw",
   "metadata": {},
   "source": [
    "label_0 = Talking about debbie wasserman, curse a lot\n",
    "label_1 = Female\n",
    "label_2 = Worried about trump with the nuclear codes\n",
    "label_3 = Love, god, good vibes, \n",
    "label_4 = Watching the debate with friends, supporting hillary\n",
    "label_5 = Proud Americans\n",
    "label_6 = Conservative Sports Fans, talking about korea a lot?\n",
    "label_7 = Barrack and Michelle Fans\n",
    "label_8 = Barrack and Michelle Fans\n",
    "label_9 = Young, Bernie Sanders Supporters\n"
   ]
  },
  {
   "cell_type": "markdown",
   "metadata": {},
   "source": [
    "### Plot clusters using the TFIDF Vectors"
   ]
  },
  {
   "cell_type": "code",
   "execution_count": 31,
   "metadata": {},
   "outputs": [
    {
     "name": "stdout",
     "output_type": "stream",
     "text": [
      "Requirement already satisfied: yellowbrick in /opt/conda/lib/python3.7/site-packages (1.1)\n",
      "Requirement already satisfied: cycler>=0.10.0 in /opt/conda/lib/python3.7/site-packages (from yellowbrick) (0.10.0)\n",
      "Requirement already satisfied: scipy>=1.0.0 in /opt/conda/lib/python3.7/site-packages (from yellowbrick) (1.4.1)\n",
      "Requirement already satisfied: scikit-learn>=0.20 in /opt/conda/lib/python3.7/site-packages (from yellowbrick) (0.22.1)\n",
      "Requirement already satisfied: matplotlib!=3.0.0,>=2.0.2 in /opt/conda/lib/python3.7/site-packages (from yellowbrick) (3.1.3)\n",
      "Requirement already satisfied: numpy>=1.13.0 in /opt/conda/lib/python3.7/site-packages (from yellowbrick) (1.18.1)\n",
      "Requirement already satisfied: six in /opt/conda/lib/python3.7/site-packages (from cycler>=0.10.0->yellowbrick) (1.14.0)\n",
      "Requirement already satisfied: joblib>=0.11 in /opt/conda/lib/python3.7/site-packages (from scikit-learn>=0.20->yellowbrick) (0.14.1)\n",
      "Requirement already satisfied: pyparsing!=2.0.4,!=2.1.2,!=2.1.6,>=2.0.1 in /opt/conda/lib/python3.7/site-packages (from matplotlib!=3.0.0,>=2.0.2->yellowbrick) (2.4.6)\n",
      "Requirement already satisfied: python-dateutil>=2.1 in /opt/conda/lib/python3.7/site-packages (from matplotlib!=3.0.0,>=2.0.2->yellowbrick) (2.8.1)\n",
      "Requirement already satisfied: kiwisolver>=1.0.1 in /opt/conda/lib/python3.7/site-packages (from matplotlib!=3.0.0,>=2.0.2->yellowbrick) (1.1.0)\n",
      "Requirement already satisfied: setuptools in /opt/conda/lib/python3.7/site-packages (from kiwisolver>=1.0.1->matplotlib!=3.0.0,>=2.0.2->yellowbrick) (45.2.0.post20200210)\n"
     ]
    }
   ],
   "source": [
    "!pip install yellowbrick"
   ]
  },
  {
   "cell_type": "raw",
   "metadata": {},
   "source": [
    "from yellowbrick.text.tsne import tsne\n",
    "from sklearn.feature_extraction.text import TfidfVectorizer\n",
    "from yellowbrick.datasets import load_hobbies\n",
    "\n",
    "# Load the data and create document vectors\n",
    "corpus = user_summary['combined_text']\n",
    "tfidf = TfidfVectorizer()\n",
    "\n",
    "X = tfidf.fit_transform(corpus)\n",
    "y = user_summary['cluster']\n",
    "\n",
    "tsne(X, y)"
   ]
  },
  {
   "cell_type": "code",
   "execution_count": null,
   "metadata": {},
   "outputs": [],
   "source": []
  },
  {
   "cell_type": "markdown",
   "metadata": {},
   "source": [
    "# Benchmark Models"
   ]
  },
  {
   "cell_type": "code",
   "execution_count": 32,
   "metadata": {},
   "outputs": [
    {
     "data": {
      "text/plain": [
       "array(['0', '8', '3', '2', '6', '9', '4', '5', '1', '7'], dtype='<U11')"
      ]
     },
     "execution_count": 32,
     "metadata": {},
     "output_type": "execute_result"
    }
   ],
   "source": [
    "target_names = y.unique().astype('str')\n",
    "target_names"
   ]
  },
  {
   "cell_type": "code",
   "execution_count": 33,
   "metadata": {},
   "outputs": [
    {
     "name": "stdout",
     "output_type": "stream",
     "text": [
      "================================================================================\n",
      "Ridge Classifier\n",
      "________________________________________________________________________________\n",
      "Training: \n",
      "RidgeClassifier(alpha=1.0, class_weight=None, copy_X=True, fit_intercept=True,\n",
      "                max_iter=None, normalize=False, random_state=None,\n",
      "                solver='auto', tol=0.01)\n",
      "train time: 3.759s\n",
      "test time:  0.018s\n",
      "accuracy:   0.554\n",
      "dimensionality: 10000\n",
      "density: 1.000000\n",
      "classification report:\n",
      "              precision    recall  f1-score   support\n",
      "\n",
      "           0       0.54      0.68      0.60     12223\n",
      "           8       0.53      0.58      0.56      8940\n",
      "           3       0.54      0.58      0.56      9114\n",
      "           2       0.57      0.13      0.21      2238\n",
      "           6       0.62      0.19      0.29      2707\n",
      "           9       0.59      0.10      0.17       910\n",
      "           4       0.60      0.33      0.43      4914\n",
      "           5       0.25      0.01      0.01       130\n",
      "           1       0.57      0.69      0.63     15104\n",
      "           7       0.58      0.43      0.49      5423\n",
      "\n",
      "    accuracy                           0.55     61703\n",
      "   macro avg       0.54      0.37      0.40     61703\n",
      "weighted avg       0.56      0.55      0.54     61703\n",
      "\n",
      "confusion matrix:\n",
      "[[ 8326   828   695    80    23     7   234     0  1693   337]\n",
      " [ 1122  5223   759    15    97     1   144     1  1502    76]\n",
      " [  855   761  5318    15    63    21    79     0  1611   391]\n",
      " [ 1330   140    92   290     5     4    92     1   133   151]\n",
      " [  167   921   544     4   521     6    57     0   449    38]\n",
      " [   82    65   334     4    18    91    14     0   181   121]\n",
      " [  903   589   289    23    42     4  1634     0  1266   164]\n",
      " [   24    61    10     1     1     0     8     1    15     9]\n",
      " [ 1524  1117  1123    30    63     8   329     1 10486   423]\n",
      " [ 1060   144   770    46     7    11   139     0   922  2324]]\n",
      "\n",
      "================================================================================\n",
      "Perceptron\n",
      "________________________________________________________________________________\n",
      "Training: \n",
      "Perceptron(alpha=0.0001, class_weight=None, early_stopping=False, eta0=1.0,\n",
      "           fit_intercept=True, max_iter=50, n_iter_no_change=5, n_jobs=None,\n",
      "           penalty=None, random_state=0, shuffle=True, tol=0.001,\n",
      "           validation_fraction=0.1, verbose=0, warm_start=False)\n",
      "train time: 1.823s\n",
      "test time:  0.018s\n",
      "accuracy:   0.493\n",
      "dimensionality: 10000\n",
      "density: 0.923650\n",
      "classification report:\n",
      "              precision    recall  f1-score   support\n",
      "\n",
      "           0       0.54      0.56      0.55     12223\n",
      "           8       0.50      0.50      0.50      8940\n",
      "           3       0.50      0.49      0.50      9114\n",
      "           2       0.37      0.36      0.37      2238\n",
      "           6       0.35      0.39      0.37      2707\n",
      "           9       0.26      0.26      0.26       910\n",
      "           4       0.37      0.42      0.39      4914\n",
      "           5       0.12      0.32      0.17       130\n",
      "           1       0.57      0.54      0.56     15104\n",
      "           7       0.48      0.42      0.45      5423\n",
      "\n",
      "    accuracy                           0.49     61703\n",
      "   macro avg       0.41      0.43      0.41     61703\n",
      "weighted avg       0.50      0.49      0.49     61703\n",
      "\n",
      "confusion matrix:\n",
      "[[6807  932  779  475  182   41  762   58 1605  582]\n",
      " [1007 4466  819  109  569   49  539   29 1221  132]\n",
      " [ 828  801 4458  110  448  177  320   41 1402  529]\n",
      " [ 651  109   65  811   50   32  213   23  103  181]\n",
      " [ 109  573  364   47 1050   60  182   24  235   63]\n",
      " [  46   40  187   24   69  237   50   10  108  139]\n",
      " [ 663  493  223  198  177   60 2077   38  768  217]\n",
      " [  16   15    4    9   10    5   10   42    8   11]\n",
      " [1815 1351 1357  165  329  118 1089   53 8195  632]\n",
      " [ 764  143  639  249   85  139  378   37  689 2300]]\n",
      "\n",
      "================================================================================\n",
      "Passive-Aggressive\n",
      "________________________________________________________________________________\n",
      "Training: \n",
      "PassiveAggressiveClassifier(C=1.0, average=False, class_weight=None,\n",
      "                            early_stopping=False, fit_intercept=True,\n",
      "                            loss='hinge', max_iter=50, n_iter_no_change=5,\n",
      "                            n_jobs=None, random_state=None, shuffle=True,\n",
      "                            tol=0.001, validation_fraction=0.1, verbose=0,\n",
      "                            warm_start=False)\n",
      "train time: 3.845s\n",
      "test time:  0.018s\n",
      "accuracy:   0.547\n",
      "dimensionality: 10000\n",
      "density: 0.979360\n",
      "classification report:\n",
      "              precision    recall  f1-score   support\n",
      "\n",
      "           0       0.56      0.63      0.59     12223\n",
      "           8       0.57      0.54      0.55      8940\n",
      "           3       0.54      0.56      0.55      9114\n",
      "           2       0.44      0.40      0.42      2238\n",
      "           6       0.45      0.37      0.41      2707\n",
      "           9       0.32      0.30      0.31       910\n",
      "           4       0.47      0.39      0.43      4914\n",
      "           5       0.10      0.07      0.08       130\n",
      "           1       0.60      0.63      0.61     15104\n",
      "           7       0.53      0.48      0.50      5423\n",
      "\n",
      "    accuracy                           0.55     61703\n",
      "   macro avg       0.46      0.44      0.44     61703\n",
      "weighted avg       0.54      0.55      0.54     61703\n",
      "\n",
      "confusion matrix:\n",
      "[[7646  801  719  392   98   42  435    5 1561  524]\n",
      " [1035 4847  808   99  367   45  340   14 1271  114]\n",
      " [ 846  647 5098   82  275  146  184   10 1338  488]\n",
      " [ 727   85   62  893   41   28  130    4   89  179]\n",
      " [ 131  583  423   45 1011   65  121    5  267   56]\n",
      " [  35   39  216   31   54  270   42    3   91  129]\n",
      " [ 727  443  239  155  127   45 1937   15  986  240]\n",
      " [  16   11   15    7    7    6   44    9    7    8]\n",
      " [1666 1017 1262  129  213   84  663   20 9459  591]\n",
      " [ 778  105  676  211   44  120  225    7  665 2592]]\n",
      "\n",
      "================================================================================\n",
      "kNN\n",
      "________________________________________________________________________________\n",
      "Training: \n",
      "KNeighborsClassifier(algorithm='auto', leaf_size=30, metric='minkowski',\n",
      "                     metric_params=None, n_jobs=None, n_neighbors=10, p=2,\n",
      "                     weights='uniform')\n",
      "train time: 0.031s\n",
      "test time:  328.616s\n",
      "accuracy:   0.234\n",
      "confusion matrix:\n",
      "[[ 3319   123   156   129    28    57    96  8106    96   113]\n",
      " [  148  2064   134    47    73    33    45  6265   105    26]\n",
      " [  103   100  2582    36    67    57    18  5982    84    85]\n",
      " [   49     9    19   413     4    14    16  1696     4    14]\n",
      " [   25    38    46    24   469    15    11  2056    14     9]\n",
      " [   10     3    24    13    10   102     2   724     7    15]\n",
      " [   63    41    43    47    17    21  1506  3027   103    46]\n",
      " [    2     7     1     4     1     2     1   111     0     1]\n",
      " [  286   224   303    66    67    74   226 10880  2849   129]\n",
      " [   76    27    87    49    14    52    61  4016    31  1010]]\n",
      "\n",
      "================================================================================\n",
      "Random forest\n",
      "________________________________________________________________________________\n",
      "Training: \n",
      "RandomForestClassifier(bootstrap=True, ccp_alpha=0.0, class_weight=None,\n",
      "                       criterion='gini', max_depth=None, max_features='auto',\n",
      "                       max_leaf_nodes=None, max_samples=None,\n",
      "                       min_impurity_decrease=0.0, min_impurity_split=None,\n",
      "                       min_samples_leaf=1, min_samples_split=2,\n",
      "                       min_weight_fraction_leaf=0.0, n_estimators=100,\n",
      "                       n_jobs=None, oob_score=False, random_state=None,\n",
      "                       verbose=0, warm_start=False)\n",
      "train time: 1267.066s\n",
      "test time:  5.573s\n",
      "accuracy:   0.578\n",
      "confusion matrix:\n",
      "[[ 7165   893   707   174    63     5   152    26  2738   300]\n",
      " [ 1081  5033   619    40   180     9   110    25  1745    98]\n",
      " [  870   768  5025    38   136    54    70    12  1788   353]\n",
      " [  697   135    95   873    41    11    72    28   165   121]\n",
      " [  180   658   354    29  1022    23    50    31   317    43]\n",
      " [   97    82   165    17    41   280    10     8   110   100]\n",
      " [  665   451   193    93    92    16  2191    18  1065   130]\n",
      " [   19    11     9     7     6     3     9    51     9     6]\n",
      " [ 1281   840   706    58   130    31   252    12 11484   310]\n",
      " [  846   188   506   128    32    65    98    26   976  2558]]\n",
      "\n",
      "================================================================================\n",
      "L2 penalty\n",
      "________________________________________________________________________________\n",
      "Training: \n",
      "LinearSVC(C=1.0, class_weight=None, dual=False, fit_intercept=True,\n",
      "          intercept_scaling=1, loss='squared_hinge', max_iter=1000,\n",
      "          multi_class='ovr', penalty='l2', random_state=None, tol=0.001,\n",
      "          verbose=0)\n",
      "train time: 15.679s\n",
      "test time:  0.018s\n",
      "accuracy:   0.586\n",
      "dimensionality: 10000\n",
      "density: 1.000000\n",
      "classification report:\n",
      "              precision    recall  f1-score   support\n",
      "\n",
      "           0       0.60      0.66      0.63     12223\n",
      "           8       0.58      0.60      0.59      8940\n",
      "           3       0.58      0.60      0.59      9114\n",
      "           2       0.52      0.37      0.43      2238\n",
      "           6       0.51      0.40      0.45      2707\n",
      "           9       0.46      0.26      0.33       910\n",
      "           4       0.54      0.41      0.46      4914\n",
      "           5       0.40      0.06      0.11       130\n",
      "           1       0.62      0.68      0.65     15104\n",
      "           7       0.57      0.53      0.55      5423\n",
      "\n",
      "    accuracy                           0.59     61703\n",
      "   macro avg       0.54      0.46      0.48     61703\n",
      "weighted avg       0.58      0.59      0.58     61703\n",
      "\n",
      "confusion matrix:\n",
      "[[ 8060   786   657   253    81    18   360     1  1538   469]\n",
      " [  913  5369   709    56   287     7   250     1  1263    85]\n",
      " [  695   683  5448    54   216    80   130     0  1342   466]\n",
      " [  801    99    55   829    35    14   129     1    90   185]\n",
      " [   99   664   421    29  1075    29    88     1   258    43]\n",
      " [   40    48   238    19    56   233    24     3    90   159]\n",
      " [  705   491   228   108   115    25  2009     2   979   252]\n",
      " [   16    18     7     5    10     2    45     8    11     8]\n",
      " [ 1383  1010  1088    85   191    39   525     3 10276   504]\n",
      " [  750   108   595   157    40    63   189     0   662  2859]]\n",
      "\n",
      "________________________________________________________________________________\n",
      "Training: \n",
      "SGDClassifier(alpha=0.0001, average=False, class_weight=None,\n",
      "              early_stopping=False, epsilon=0.1, eta0=0.0, fit_intercept=True,\n",
      "              l1_ratio=0.15, learning_rate='optimal', loss='hinge', max_iter=50,\n",
      "              n_iter_no_change=5, n_jobs=None, penalty='l2', power_t=0.5,\n",
      "              random_state=None, shuffle=True, tol=0.001,\n",
      "              validation_fraction=0.1, verbose=0, warm_start=False)\n",
      "train time: 2.223s\n",
      "test time:  0.020s\n",
      "accuracy:   0.524\n",
      "dimensionality: 10000\n",
      "density: 0.931670\n",
      "classification report:\n",
      "              precision    recall  f1-score   support\n",
      "\n",
      "           0       0.53      0.60      0.56     12223\n",
      "           8       0.54      0.51      0.53      8940\n",
      "           3       0.54      0.50      0.52      9114\n",
      "           2       0.39      0.18      0.25      2238\n",
      "           6       0.45      0.24      0.31      2707\n",
      "           9       0.36      0.17      0.23       910\n",
      "           4       0.51      0.30      0.38      4914\n",
      "           5       0.01      0.05      0.02       130\n",
      "           1       0.53      0.72      0.61     15104\n",
      "           7       0.53      0.42      0.47      5423\n",
      "\n",
      "    accuracy                           0.52     61703\n",
      "   macro avg       0.44      0.37      0.39     61703\n",
      "weighted avg       0.52      0.52      0.51     61703\n",
      "\n",
      "confusion matrix:\n",
      "[[ 7282   785   648   190    68    19   277   116  2455   383]\n",
      " [ 1058  4579   675    54   202    22   212    70  1952   116]\n",
      " [  872   664  4597    51   147    64   145    99  2030   445]\n",
      " [ 1214   104    73   399    31     8   105    24    92   188]\n",
      " [  153   793   516    21   643    23    95    16   397    50]\n",
      " [   60    45   275    19    36   155    28     7   130   155]\n",
      " [  822   521   238    73    87    22  1495    38  1450   168]\n",
      " [   18    19     9     3     9     1    46     7     8    10]\n",
      " [ 1258   775   829    99   169    60   367   160 10934   453]\n",
      " [  938   136   630   110    38    54   161    46  1058  2252]]\n",
      "\n",
      "================================================================================\n",
      "L1 penalty\n",
      "________________________________________________________________________________\n",
      "Training: \n",
      "LinearSVC(C=1.0, class_weight=None, dual=False, fit_intercept=True,\n",
      "          intercept_scaling=1, loss='squared_hinge', max_iter=1000,\n",
      "          multi_class='ovr', penalty='l1', random_state=None, tol=0.001,\n",
      "          verbose=0)\n",
      "train time: 50.956s\n",
      "test time:  0.018s\n",
      "accuracy:   0.590\n",
      "dimensionality: 10000\n",
      "density: 0.645350\n",
      "classification report:\n",
      "              precision    recall  f1-score   support\n",
      "\n",
      "           0       0.60      0.66      0.63     12223\n",
      "           8       0.58      0.61      0.59      8940\n",
      "           3       0.58      0.60      0.59      9114\n",
      "           2       0.53      0.38      0.44      2238\n",
      "           6       0.52      0.40      0.46      2707\n",
      "           9       0.49      0.24      0.32       910\n",
      "           4       0.55      0.40      0.47      4914\n",
      "           5       0.56      0.04      0.07       130\n",
      "           1       0.62      0.68      0.65     15104\n",
      "           7       0.58      0.54      0.56      5423\n",
      "\n",
      "    accuracy                           0.59     61703\n",
      "   macro avg       0.56      0.46      0.48     61703\n",
      "weighted avg       0.59      0.59      0.58     61703\n",
      "\n",
      "confusion matrix:\n",
      "[[ 8107   785   654   257    76    15   332     0  1530   467]\n",
      " [  906  5416   710    52   282     4   232     1  1246    91]\n",
      " [  697   673  5506    48   212    67   116     0  1347   448]\n",
      " [  795    98    55   853    29     9   124     1    92   182]\n",
      " [   98   671   413    28  1095    24    80     0   258    40]\n",
      " [   39    49   255    14    53   220    22     0    98   160]\n",
      " [  715   508   217   111   124    20  1989     0   982   248]\n",
      " [   17    20    10     3     6     1    45     5    11    12]\n",
      " [ 1382  1032  1086    86   184    34   504     2 10293   501]\n",
      " [  735   108   594   154    39    55   178     0   646  2914]]\n",
      "\n",
      "________________________________________________________________________________\n",
      "Training: \n",
      "SGDClassifier(alpha=0.0001, average=False, class_weight=None,\n",
      "              early_stopping=False, epsilon=0.1, eta0=0.0, fit_intercept=True,\n",
      "              l1_ratio=0.15, learning_rate='optimal', loss='hinge', max_iter=50,\n",
      "              n_iter_no_change=5, n_jobs=None, penalty='l1', power_t=0.5,\n",
      "              random_state=None, shuffle=True, tol=0.001,\n",
      "              validation_fraction=0.1, verbose=0, warm_start=False)\n",
      "train time: 3.150s\n",
      "test time:  0.020s\n",
      "accuracy:   0.381\n",
      "dimensionality: 10000\n",
      "density: 0.010610\n",
      "classification report:\n",
      "              precision    recall  f1-score   support\n",
      "\n",
      "           0       0.34      0.50      0.41     12223\n",
      "           8       0.49      0.24      0.32      8940\n",
      "           3       0.35      0.35      0.35      9114\n",
      "           2       0.69      0.02      0.03      2238\n",
      "           6       0.48      0.05      0.08      2707\n",
      "           9       0.00      0.00      0.00       910\n",
      "           4       0.45      0.11      0.18      4914\n",
      "           5       0.00      0.00      0.00       130\n",
      "           1       0.44      0.69      0.54     15104\n",
      "           7       0.41      0.17      0.24      5423\n",
      "\n",
      "    accuracy                           0.38     61703\n",
      "   macro avg       0.37      0.21      0.22     61703\n",
      "weighted avg       0.42      0.38      0.35     61703\n",
      "\n",
      "confusion matrix:\n",
      "[[ 6104   537  1084     6    19     0   167   490  3538   278]\n",
      " [ 2162  2166  1046     1    35     0   106   547  2751   126]\n",
      " [ 1961   482  3182     1    19     0    78   389  2662   340]\n",
      " [ 1481    60   195    38     4     0    51    94   248    67]\n",
      " [  622   354   744     0   122     0    35   208   586    36]\n",
      " [  242    25   386     0     2     0     5    17   175    58]\n",
      " [ 1362   226   484     1    27     0   553   345  1832    84]\n",
      " [  102     1    14     0     0     0     2     0    10     1]\n",
      " [ 2193   452  1084     5    23     0   121   487 10420   319]\n",
      " [ 1662    93   831     3     4     0   106   206  1603   915]]\n",
      "\n",
      "================================================================================\n",
      "Elastic-Net penalty\n",
      "________________________________________________________________________________\n",
      "Training: \n",
      "SGDClassifier(alpha=0.0001, average=False, class_weight=None,\n",
      "              early_stopping=False, epsilon=0.1, eta0=0.0, fit_intercept=True,\n",
      "              l1_ratio=0.15, learning_rate='optimal', loss='hinge', max_iter=50,\n",
      "              n_iter_no_change=5, n_jobs=None, penalty='elasticnet',\n",
      "              power_t=0.5, random_state=None, shuffle=True, tol=0.001,\n",
      "              validation_fraction=0.1, verbose=0, warm_start=False)\n"
     ]
    },
    {
     "name": "stderr",
     "output_type": "stream",
     "text": [
      "/opt/conda/lib/python3.7/site-packages/sklearn/metrics/_classification.py:1272: UndefinedMetricWarning: Precision and F-score are ill-defined and being set to 0.0 in labels with no predicted samples. Use `zero_division` parameter to control this behavior.\n",
      "  _warn_prf(average, modifier, msg_start, len(result))\n"
     ]
    },
    {
     "name": "stdout",
     "output_type": "stream",
     "text": [
      "train time: 4.148s\n",
      "test time:  0.020s\n",
      "accuracy:   0.478\n",
      "dimensionality: 10000\n",
      "density: 0.119330\n",
      "classification report:\n",
      "              precision    recall  f1-score   support\n",
      "\n",
      "           0       0.50      0.58      0.54     12223\n",
      "           8       0.52      0.44      0.48      8940\n",
      "           3       0.52      0.44      0.48      9114\n",
      "           2       0.51      0.07      0.12      2238\n",
      "           6       0.45      0.10      0.17      2707\n",
      "           9       0.23      0.02      0.04       910\n",
      "           4       0.57      0.20      0.30      4914\n",
      "           5       0.02      0.44      0.03       130\n",
      "           1       0.50      0.73      0.59     15104\n",
      "           7       0.49      0.35      0.41      5423\n",
      "\n",
      "    accuracy                           0.48     61703\n",
      "   macro avg       0.43      0.34      0.32     61703\n",
      "weighted avg       0.50      0.48      0.46     61703\n",
      "\n",
      "confusion matrix:\n",
      "[[ 7104   687   596    38    44    13   152   507  2719   363]\n",
      " [ 1231  3974   642    14    85    10   120   437  2290   137]\n",
      " [ 1013   630  4041    15    58    17    89   485  2340   426]\n",
      " [ 1366    95    86   148    11     3    48   181   121   179]\n",
      " [  189   856   553     8   277     4    33   232   500    55]\n",
      " [   78    47   257     2    19    22    14   124   157   190]\n",
      " [  934   496   235    21    41     8   994   352  1635   198]\n",
      " [   22    13    12     1     3     0     4    57     7    11]\n",
      " [ 1310   675   728    22    61    12   186   654 10998   458]\n",
      " [ 1066   129   593    23    16     5    99   270  1321  1901]]\n",
      "\n",
      "================================================================================\n",
      "NearestCentroid (aka Rocchio classifier)\n",
      "________________________________________________________________________________\n",
      "Training: \n",
      "NearestCentroid(metric='euclidean', shrink_threshold=None)\n",
      "train time: 0.068s\n",
      "test time:  0.023s\n",
      "accuracy:   0.372\n",
      "confusion matrix:\n",
      "[[3803  879 1057 1744  863  252  484  584 2002  555]\n",
      " [ 666 3131  741  510 1663  216  362  553  951  147]\n",
      " [ 786  729 3172  426 1306  581  198  527  861  528]\n",
      " [ 199   44   66 1159  150   80  114  260   66  100]\n",
      " [  64  252  214  115 1519  147   71  237   48   40]\n",
      " [  20   16   66   49  132  411   25  104   12   75]\n",
      " [ 367  371  202  535  637  170 1475  376  627  154]\n",
      " [   3    0    1   11   22    7    9   75    1    1]\n",
      " [1332 1109 1179  740 1309  657  984  546 6547  701]\n",
      " [ 462   90  629  629  340  374  239  412  597 1651]]\n",
      "\n",
      "================================================================================\n",
      "Naive Bayes\n",
      "________________________________________________________________________________\n",
      "Training: \n",
      "MultinomialNB(alpha=0.01, class_prior=None, fit_prior=True)\n",
      "train time: 0.080s\n",
      "test time:  0.017s\n",
      "accuracy:   0.465\n",
      "dimensionality: 10000\n",
      "density: 1.000000\n",
      "classification report:\n",
      "              precision    recall  f1-score   support\n",
      "\n",
      "           0       0.49      0.57      0.52     12223\n",
      "           8       0.56      0.34      0.42      8940\n",
      "           3       0.50      0.40      0.45      9114\n",
      "           2       0.78      0.10      0.18      2238\n",
      "           6       0.71      0.11      0.19      2707\n",
      "           9       0.79      0.06      0.11       910\n",
      "           4       0.62      0.25      0.36      4914\n",
      "           5       0.50      0.01      0.02       130\n",
      "           1       0.40      0.78      0.53     15104\n",
      "           7       0.56      0.25      0.35      5423\n",
      "\n",
      "    accuracy                           0.47     61703\n",
      "   macro avg       0.59      0.29      0.31     61703\n",
      "weighted avg       0.52      0.47      0.44     61703\n",
      "\n",
      "confusion matrix:\n",
      "[[ 6923   439   570    27     4     1   123     0  3938   198]\n",
      " [ 1252  3059   677     1    40     1    86     1  3764    59]\n",
      " [ 1158   394  3688     3    26     6    45     0  3563   231]\n",
      " [ 1096    90   115   233     5     0    82     0   498   119]\n",
      " [  279   457   453     0   304     1    38     0  1137    38]\n",
      " [   83    39   251     1    10    53    18     0   367    88]\n",
      " [  846   298   226    14    13     0  1242     0  2166   109]\n",
      " [   24    14    12     1     1     0     3     1    64    10]\n",
      " [ 1449   564   748     9    24     1   254     0 11843   212]\n",
      " [ 1096   124   637    11     0     4   115     0  2078  1358]]\n",
      "\n",
      "________________________________________________________________________________\n",
      "Training: \n",
      "BernoulliNB(alpha=0.01, binarize=0.0, class_prior=None, fit_prior=True)\n",
      "train time: 0.103s\n",
      "test time:  0.029s\n",
      "accuracy:   0.447\n",
      "dimensionality: 10000\n",
      "density: 1.000000\n",
      "classification report:\n",
      "              precision    recall  f1-score   support\n",
      "\n",
      "           0       0.53      0.41      0.46     12223\n",
      "           8       0.48      0.46      0.47      8940\n",
      "           3       0.49      0.44      0.46      9114\n",
      "           2       0.30      0.50      0.37      2238\n",
      "           6       0.30      0.51      0.38      2707\n",
      "           9       0.18      0.36      0.24       910\n",
      "           4       0.33      0.49      0.40      4914\n",
      "           5       0.12      0.38      0.18       130\n",
      "           1       0.59      0.43      0.50     15104\n",
      "           7       0.39      0.49      0.43      5423\n",
      "\n",
      "    accuracy                           0.45     61703\n",
      "   macro avg       0.37      0.45      0.39     61703\n",
      "weighted avg       0.48      0.45      0.45     61703\n",
      "\n",
      "confusion matrix:\n",
      "[[5037 1011  870  931  288  114  959   41 1963 1009]\n",
      " [ 699 4118  764  273  927  118  713   36 1047  245]\n",
      " [ 729  792 4006  222  760  328  365   44 1017  851]\n",
      " [ 270   75   68 1114   80   78  216   43    4  290]\n",
      " [  55  426  283  103 1377  117  176   57   20   93]\n",
      " [  14   29  106   53  141  325   49   19    3  171]\n",
      " [ 472  442  189  326  325  113 2389   59  226  373]\n",
      " [   3    6    1   20   16   14    9   49    0   12]\n",
      " [1617 1575 1336  255  533  283 1907   20 6507 1071]\n",
      " [ 597  135  497  436  155  286  385   40  250 2642]]\n",
      "\n",
      "________________________________________________________________________________\n",
      "Training: \n",
      "ComplementNB(alpha=0.1, class_prior=None, fit_prior=True, norm=False)\n",
      "train time: 0.080s\n",
      "test time:  0.019s\n",
      "accuracy:   0.467\n",
      "dimensionality: 10000\n",
      "density: 1.000000\n",
      "classification report:\n",
      "              precision    recall  f1-score   support\n",
      "\n",
      "           0       0.53      0.52      0.53     12223\n",
      "           8       0.49      0.43      0.46      8940\n",
      "           3       0.46      0.46      0.46      9114\n",
      "           2       0.31      0.19      0.24      2238\n",
      "           6       0.36      0.25      0.29      2707\n",
      "           9       0.34      0.13      0.18       910\n",
      "           4       0.38      0.36      0.37      4914\n",
      "           5       0.20      0.02      0.03       130\n",
      "           1       0.50      0.61      0.55     15104\n",
      "           7       0.37      0.39      0.38      5423\n",
      "\n",
      "    accuracy                           0.47     61703\n",
      "   macro avg       0.39      0.34      0.35     61703\n",
      "weighted avg       0.46      0.47      0.46     61703\n",
      "\n",
      "confusion matrix:\n",
      "[[6382  818  856  321  153   26  590    0 2304  773]\n",
      " [ 982 3868  890  102  295   14  403    3 2052  331]\n",
      " [ 919  707 4224   87  204   62  263    0 1886  762]\n",
      " [ 778  132  156  435   39    9  234    1  182  272]\n",
      " [ 152  541  495   38  666   14  168    1  472  160]\n",
      " [  37   49  230   17   41  115   70    0  157  194]\n",
      " [ 567  443  313  105  132   12 1786    0 1228  328]\n",
      " [  43   16    9    4    4    2   16    2   12   22]\n",
      " [1476 1061 1215  153  265   48  829    3 9195  859]\n",
      " [ 727  216  748  137   76   40  337    0 1003 2139]]\n",
      "\n",
      "================================================================================\n",
      "LinearSVC with L1-based feature selection\n",
      "________________________________________________________________________________\n",
      "Training: \n",
      "Pipeline(memory=None,\n",
      "         steps=[('feature_selection',\n",
      "                 SelectFromModel(estimator=LinearSVC(C=1.0, class_weight=None,\n",
      "                                                     dual=False,\n",
      "                                                     fit_intercept=True,\n",
      "                                                     intercept_scaling=1,\n",
      "                                                     loss='squared_hinge',\n",
      "                                                     max_iter=1000,\n",
      "                                                     multi_class='ovr',\n",
      "                                                     penalty='l1',\n",
      "                                                     random_state=None,\n",
      "                                                     tol=0.001, verbose=0),\n",
      "                                 max_features=None, norm_order=1, prefit=False,\n",
      "                                 threshold=None)),\n",
      "                ('classification',\n",
      "                 LinearSVC(C=1.0, class_weight=None, dual=True,\n",
      "                           fit_intercept=True, intercept_scaling=1,\n",
      "                           loss='squared_hinge', max_iter=1000,\n",
      "                           multi_class='ovr', penalty='l2', random_state=None,\n",
      "                           tol=0.0001, verbose=0))],\n",
      "         verbose=False)\n",
      "train time: 64.667s\n",
      "test time:  0.025s\n",
      "accuracy:   0.586\n",
      "confusion matrix:\n",
      "[[ 8066   785   655   252    81    18   361     1  1537   467]\n",
      " [  913  5362   710    56   289     7   255     1  1263    84]\n",
      " [  697   683  5448    54   215    82   132     0  1341   462]\n",
      " [  806    99    53   826    36    15   131     1    87   184]\n",
      " [   97   660   421    29  1084    29    88     1   256    42]\n",
      " [   41    48   238    19    56   233    24     3    90   158]\n",
      " [  707   491   227   106   115    25  2012     2   978   251]\n",
      " [   16    18     7     5    10     2    45     8    11     8]\n",
      " [ 1378  1014  1080    86   192    39   526     3 10278   508]\n",
      " [  749   108   595   155    40    63   191     0   659  2863]]\n",
      "\n"
     ]
    }
   ],
   "source": [
    "# Author: Peter Prettenhofer <peter.prettenhofer@gmail.com>\n",
    "#         Olivier Grisel <olivier.grisel@ensta.org>\n",
    "#         Mathieu Blondel <mathieu@mblondel.org>\n",
    "#         Lars Buitinck\n",
    "# License: BSD 3 clause\n",
    "\n",
    "from sklearn.feature_extraction.text import TfidfVectorizer\n",
    "from sklearn.feature_extraction.text import HashingVectorizer\n",
    "from sklearn.feature_selection import SelectFromModel\n",
    "from sklearn.feature_selection import SelectKBest, chi2\n",
    "from sklearn.linear_model import RidgeClassifier\n",
    "from sklearn.pipeline import Pipeline\n",
    "from sklearn.svm import LinearSVC\n",
    "from sklearn.linear_model import SGDClassifier\n",
    "from sklearn.linear_model import Perceptron\n",
    "from sklearn.linear_model import PassiveAggressiveClassifier\n",
    "from sklearn.naive_bayes import BernoulliNB, ComplementNB, MultinomialNB\n",
    "from sklearn.neighbors import KNeighborsClassifier\n",
    "from sklearn.neighbors import NearestCentroid\n",
    "from sklearn.ensemble import RandomForestClassifier\n",
    "from sklearn.utils.extmath import density\n",
    "from sklearn import metrics\n",
    "\n",
    "\n",
    "def benchmark(clf):\n",
    "    print('_' * 80)\n",
    "    print(\"Training: \")\n",
    "    print(clf)\n",
    "    t0 = time()\n",
    "    clf.fit(X_train, y_train)\n",
    "    train_time = time() - t0\n",
    "    print(\"train time: %0.3fs\" % train_time)\n",
    "\n",
    "    t0 = time()\n",
    "    pred = clf.predict(X_test)\n",
    "    test_time = time() - t0\n",
    "    print(\"test time:  %0.3fs\" % test_time)\n",
    "\n",
    "    score = metrics.accuracy_score(y_test, pred)\n",
    "    print(\"accuracy:   %0.3f\" % score)\n",
    "\n",
    "    if hasattr(clf, 'coef_'):\n",
    "        print(\"dimensionality: %d\" % clf.coef_.shape[1])\n",
    "        print(\"density: %f\" % density(clf.coef_))\n",
    "\n",
    "\n",
    "        print(\"classification report:\")\n",
    "        print(metrics.classification_report(y_test, pred,\n",
    "                                            target_names=target_names))\n",
    "\n",
    "    print(\"confusion matrix:\")\n",
    "    print(metrics.confusion_matrix(y_test, pred))\n",
    "\n",
    "    print()\n",
    "    clf_descr = str(clf).split('(')[0]\n",
    "    return clf_descr, score, train_time, test_time\n",
    "\n",
    "\n",
    "results = []\n",
    "for clf, name in (\n",
    "        (RidgeClassifier(tol=1e-2, solver=\"auto\"), \"Ridge Classifier\"),\n",
    "        (Perceptron(max_iter=50), \"Perceptron\"),\n",
    "        (PassiveAggressiveClassifier(max_iter=50),\n",
    "         \"Passive-Aggressive\"),\n",
    "        (KNeighborsClassifier(n_neighbors=10), \"kNN\"),\n",
    "        (RandomForestClassifier(), \"Random forest\")):\n",
    "    print('=' * 80)\n",
    "    print(name)\n",
    "    results.append(benchmark(clf))\n",
    "\n",
    "for penalty in [\"l2\", \"l1\"]:\n",
    "    print('=' * 80)\n",
    "    print(\"%s penalty\" % penalty.upper())\n",
    "    # Train Liblinear model\n",
    "    results.append(benchmark(LinearSVC(penalty=penalty, dual=False,\n",
    "                                       tol=1e-3)))\n",
    "\n",
    "    # Train SGD model\n",
    "    results.append(benchmark(SGDClassifier(alpha=.0001, max_iter=50,\n",
    "                                           penalty=penalty)))\n",
    "\n",
    "# Train SGD with Elastic Net penalty\n",
    "print('=' * 80)\n",
    "print(\"Elastic-Net penalty\")\n",
    "results.append(benchmark(SGDClassifier(alpha=.0001, max_iter=50,\n",
    "                                       penalty=\"elasticnet\")))\n",
    "\n",
    "# Train NearestCentroid without threshold\n",
    "print('=' * 80)\n",
    "print(\"NearestCentroid (aka Rocchio classifier)\")\n",
    "results.append(benchmark(NearestCentroid()))\n",
    "\n",
    "# Train sparse Naive Bayes classifiers\n",
    "print('=' * 80)\n",
    "print(\"Naive Bayes\")\n",
    "results.append(benchmark(MultinomialNB(alpha=.01)))\n",
    "results.append(benchmark(BernoulliNB(alpha=.01)))\n",
    "results.append(benchmark(ComplementNB(alpha=.1)))\n",
    "\n",
    "print('=' * 80)\n",
    "print(\"LinearSVC with L1-based feature selection\")\n",
    "# The smaller C, the stronger the regularization.\n",
    "# The more regularization, the more sparsity.\n",
    "results.append(benchmark(Pipeline([\n",
    "  ('feature_selection', SelectFromModel(LinearSVC(penalty=\"l1\", dual=False,\n",
    "                                                  tol=1e-3))),\n",
    "  ('classification', LinearSVC(penalty=\"l2\"))])))"
   ]
  },
  {
   "cell_type": "code",
   "execution_count": 39,
   "metadata": {},
   "outputs": [
    {
     "data": {
      "text/plain": [
       "[('Random Selection', 0.1, 0.0, 0.0),\n",
       " ('KNeighborsClassifier',\n",
       "  0.23378117757645495,\n",
       "  0.030571937561035156,\n",
       "  328.61589765548706),\n",
       " ('MultinomialNB',\n",
       "  0.46519618170915517,\n",
       "  0.08032870292663574,\n",
       "  0.017443418502807617),\n",
       " ('SGDClassifier', 0.5241722444613715, 2.22265887260437, 0.019926071166992188),\n",
       " ('RidgeClassifier',\n",
       "  0.5544949192097629,\n",
       "  3.7586288452148438,\n",
       "  0.017739295959472656),\n",
       " ('RandomForestClassifier',\n",
       "  0.5782863069866944,\n",
       "  1267.0663478374481,\n",
       "  5.573012113571167)]"
      ]
     },
     "execution_count": 39,
     "metadata": {},
     "output_type": "execute_result"
    }
   ],
   "source": [
    "results = [('Random Selection', .10, 0.0, 0.0),\n",
    " ('KNeighborsClassifier',\n",
    "  0.23378117757645495,\n",
    "  0.030571937561035156,\n",
    "  328.61589765548706),\n",
    " ('MultinomialNB',\n",
    "  0.46519618170915517,\n",
    "  0.08032870292663574,\n",
    "  0.017443418502807617),\n",
    " ('SGDClassifier', 0.5241722444613715, 2.22265887260437, 0.019926071166992188),\n",
    " ('RidgeClassifier',\n",
    "  0.5544949192097629,\n",
    "  3.7586288452148438,\n",
    "  0.017739295959472656),\n",
    " ('RandomForestClassifier',\n",
    "  0.5782863069866944,\n",
    "  1267.0663478374481,\n",
    "  5.573012113571167)]\n",
    "results"
   ]
  },
  {
   "cell_type": "code",
   "execution_count": 40,
   "metadata": {},
   "outputs": [
    {
     "data": {
      "text/plain": [
       "<Figure size 864x576 with 0 Axes>"
      ]
     },
     "execution_count": 40,
     "metadata": {},
     "output_type": "execute_result"
    },
    {
     "data": {
      "text/plain": [
       "Text(0.5, 1.0, 'Score')"
      ]
     },
     "execution_count": 40,
     "metadata": {},
     "output_type": "execute_result"
    },
    {
     "data": {
      "text/plain": [
       "<BarContainer object of 6 artists>"
      ]
     },
     "execution_count": 40,
     "metadata": {},
     "output_type": "execute_result"
    },
    {
     "data": {
      "text/plain": [
       "<BarContainer object of 6 artists>"
      ]
     },
     "execution_count": 40,
     "metadata": {},
     "output_type": "execute_result"
    },
    {
     "data": {
      "text/plain": [
       "<BarContainer object of 6 artists>"
      ]
     },
     "execution_count": 40,
     "metadata": {},
     "output_type": "execute_result"
    },
    {
     "data": {
      "text/plain": [
       "([], <a list of 0 Text yticklabel objects>)"
      ]
     },
     "execution_count": 40,
     "metadata": {},
     "output_type": "execute_result"
    },
    {
     "data": {
      "text/plain": [
       "<matplotlib.legend.Legend at 0x7fd04fefaa10>"
      ]
     },
     "execution_count": 40,
     "metadata": {},
     "output_type": "execute_result"
    },
    {
     "data": {
      "text/plain": [
       "Text(-0.3, 0, 'Random Selection')"
      ]
     },
     "execution_count": 40,
     "metadata": {},
     "output_type": "execute_result"
    },
    {
     "data": {
      "text/plain": [
       "Text(-0.3, 1, 'KNeighborsClassifier')"
      ]
     },
     "execution_count": 40,
     "metadata": {},
     "output_type": "execute_result"
    },
    {
     "data": {
      "text/plain": [
       "Text(-0.3, 2, 'MultinomialNB')"
      ]
     },
     "execution_count": 40,
     "metadata": {},
     "output_type": "execute_result"
    },
    {
     "data": {
      "text/plain": [
       "Text(-0.3, 3, 'SGDClassifier')"
      ]
     },
     "execution_count": 40,
     "metadata": {},
     "output_type": "execute_result"
    },
    {
     "data": {
      "text/plain": [
       "Text(-0.3, 4, 'RidgeClassifier')"
      ]
     },
     "execution_count": 40,
     "metadata": {},
     "output_type": "execute_result"
    },
    {
     "data": {
      "text/plain": [
       "Text(-0.3, 5, 'RandomForestClassifier')"
      ]
     },
     "execution_count": 40,
     "metadata": {},
     "output_type": "execute_result"
    },
    {
     "data": {
      "image/png": "[encoded data removed]",
      "text/plain": [
       "<Figure size 864x576 with 1 Axes>"
      ]
     },
     "metadata": {
      "needs_background": "light"
     },
     "output_type": "display_data"
    }
   ],
   "source": [
    "indices = np.arange(len(results))\n",
    "\n",
    "results = [[x[i] for x in results] for i in range(4)]\n",
    "\n",
    "clf_names, score, training_time, test_time = results\n",
    "training_time = np.array(training_time) / np.max(training_time)\n",
    "test_time = np.array(test_time) / np.max(test_time)\n",
    "\n",
    "plt.figure(figsize=(12, 8))\n",
    "plt.title(\"Score\")\n",
    "plt.barh(indices, score, .2, label=\"accuracy\", color='navy')\n",
    "plt.barh(indices + .3, training_time, .2, label=\"relative training time\",\n",
    "         color='c')\n",
    "plt.barh(indices + .6, test_time, .2, label=\"relative test time\", color='orange')\n",
    "plt.yticks(())\n",
    "plt.legend(loc='best')\n",
    "plt.subplots_adjust(left=.25)\n",
    "plt.subplots_adjust(top=.95)\n",
    "plt.subplots_adjust(bottom=.05)\n",
    "\n",
    "for i, c in zip(indices, clf_names):\n",
    "    plt.text(-.3, i, c)\n",
    "\n",
    "plt.show()"
   ]
  },
  {
   "cell_type": "code",
   "execution_count": null,
   "metadata": {},
   "outputs": [],
   "source": []
  }
 ],
 "metadata": {
  "instance_type": "ml.g4dn.xlarge",
  "kernelspec": {
   "display_name": "Python 3 (Data Science)",
   "language": "python",
   "name": "python3__SAGEMAKER_INTERNAL__arn:aws:sagemaker:us-east-1:081325390199:image/datascience-1.0"
  },
  "language_info": {
   "codemirror_mode": {
    "name": "ipython",
    "version": 3
   },
   "file_extension": ".py",
   "mimetype": "text/x-python",
   "name": "python",
   "nbconvert_exporter": "python",
   "pygments_lexer": "ipython3",
   "version": "3.7.6"
  }
 },
 "nbformat": 4,
 "nbformat_minor": 4
}
