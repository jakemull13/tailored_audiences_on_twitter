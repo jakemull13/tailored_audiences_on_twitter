{
 "cells": [
  {
   "cell_type": "markdown",
   "metadata": {},
   "source": [
    "# Tailored Twitter Audiences"
   ]
  },
  {
   "cell_type": "markdown",
   "metadata": {},
   "source": [
    "### Process Overview\n",
    "<img src='plots/process_overview.png' width = 750>"
   ]
  },
  {
   "cell_type": "markdown",
   "metadata": {},
   "source": [
    "### Identifying \"Communities\"\n",
    "\n",
    "- 1.) Create a graph where points represent users and lines represent conversations (tweets)\n",
    "- 2.) Nodes are grouped into communities based on the frequency of their interactions with other users (mentions, replies)\n",
    "- 3.) For each community, extract the keywords that define it using TF-IDF\n",
    "- 4.) Hand Label the communities\n",
    "\n",
    "### Identifying \"Clusters\"\n",
    "\n",
    "- 1.) Using a pre-trained word2vec model trained on 2 billion tweets (stanford), vectorize text data (aka turn the words into a numerical representation)\n",
    "-     ex: King - Man + Woman = Queen\n",
    "- 2.) Use K-Means algorithm to group users that use similar language together\n",
    "- 3.) Label each user with their assigned cluster\n",
    "- 4.) Hand Label the clusters using topic modeling\n",
    "- 5.) Reduce dimensions to vizualize the clusters in 2d"
   ]
  },
  {
   "cell_type": "markdown",
   "metadata": {},
   "source": [
    "### Results"
   ]
  },
  {
   "cell_type": "markdown",
   "metadata": {},
   "source": [
    "<img src = 'graphs/labeled_communities.jpg' width=500>"
   ]
  },
  {
   "cell_type": "markdown",
   "metadata": {},
   "source": [
    "### Model Accuracy: **55%**"
   ]
  },
  {
   "cell_type": "code",
   "execution_count": null,
   "metadata": {},
   "outputs": [],
   "source": []
  }
 ],
 "metadata": {
  "kernelspec": {
   "display_name": "Python 3",
   "language": "python",
   "name": "python3"
  },
  "language_info": {
   "codemirror_mode": {
    "name": "ipython",
    "version": 3
   },
   "file_extension": ".py",
   "mimetype": "text/x-python",
   "name": "python",
   "nbconvert_exporter": "python",
   "pygments_lexer": "ipython3",
   "version": "3.7.6"
  }
 },
 "nbformat": 4,
 "nbformat_minor": 4
}
