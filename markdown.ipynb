{
 "cells": [
  {
   "cell_type": "markdown",
   "metadata": {},
   "source": [
    "# Outline"
   ]
  },
  {
   "cell_type": "markdown",
   "metadata": {},
   "source": [
    " - Background\n",
    " - Motivation\n",
    " - Data\n",
    " - Text Preprocessing\n",
    " - Methods for Labeling Groups\n",
    "     - Network Analysis\n",
    "     - K Means Clustering\n",
    " - Get Topics for Groups\n",
    " - Modeling \n",
    "     - Selection\n",
    "     - Scores"
   ]
  },
  {
   "cell_type": "code",
   "execution_count": null,
   "metadata": {},
   "outputs": [],
   "source": []
  },
  {
   "cell_type": "code",
   "execution_count": null,
   "metadata": {},
   "outputs": [],
   "source": []
  },
  {
   "cell_type": "markdown",
   "metadata": {},
   "source": [
    "### Text Preprocessing "
   ]
  },
  {
   "cell_type": "markdown",
   "metadata": {},
   "source": [
    "Raw Tweet\n",
    "- \"Dear Donald Trump, We'll see you Scott Baio and raise you Meryl Streep #DemsInPhilly https://t.co/loHbvcOFAT\"\n",
    "    \n",
    "Preprocessed\n",
    "- abc\n",
    "\n",
    "Vectorized\n",
    "- abc\n",
    "\n"
   ]
  },
  {
   "cell_type": "markdown",
   "metadata": {},
   "source": [
    "### Network Analysis"
   ]
  },
  {
   "cell_type": "markdown",
   "metadata": {},
   "source": [
    "**Methods**\n",
    "\n",
    "- 1.) Create a graph where points represent users and lines represent conversations (tweets)\n",
    "- 2.) Nodes are grouped into communities based on the frequency of their interactions with other users (mentions, replies)\n",
    "- 3.) For each community, extract the keywords that define it using TF-IDF\n",
    "- 4.) Hand Label the communities"
   ]
  },
  {
   "cell_type": "markdown",
   "metadata": {},
   "source": [
    "**Labels**\n",
    "\n",
    " bernie delegates, progressives who are talk about a politicla revolution. Anti-war, justice and unity\n",
    " Women, Mothers, Black, talk about michelle obama\n",
    " Mainstreams anchors hournalists hosts, mostly at CNN\n",
    " guys, fathers, dads, professionals in news media who are conservatives and talk about hillary\n",
    " mothers moms \n",
    " religious conservatives\n",
    " journalists talking about the DNC chair debbie wazzerman shultz\n",
    " Hispanic and Latinx Persons\n",
    " authors and writers\n",
    " news people\n",
    " conservatives talking about donna brazille and implicating corruption, talking about wikileaks\n",
    " Religious males (husbands) who work in media (radio\n",
    " Muslim Persons \n",
    " Reporterrs\n",
    " latina, teenages, 'don't give a ****'\n",
    "talking about mental illness and demi lovato (?)\n",
    "\n",
    "- 1 - 16.22%\n",
    "- 2-  4.11%\n",
    "- 3-  3.60%\n",
    "- 4-  2.09%\n",
    "- 5-  28.45%\n",
    "- 6-  23.12%\n",
    "- 7-  1.51%\n",
    "- 8-  1.76%\n",
    "- 9-  4.19%\n",
    "- 10-  3.73%\n",
    "- 11-  1.14%\n",
    "- 12-  3.40%13\n",
    "- 13-  1.26%\n",
    "- 14-  2.26%\n",
    "- 15-  2.32%\n",
    "- 16-  0.18%\n",
    "- 17-  0.54%\n",
    "\n",
    "### KMeans Clustering"
   ]
  },
  {
   "cell_type": "markdown",
   "metadata": {},
   "source": [
    "**Methods**\n",
    "\n",
    "- 1.) Using a pre-trained word2vec model trained on 2 billion tweets (stanford), vectorize text data (aka turn the words into a numerical representation)\n",
    "-     ex: King - Man + Woman = Queen\n",
    "- 2.) Use K-Means algorithm to group users that use similar language together\n",
    "- 3.) Label each user with their assigned cluster\n",
    "- 4.) Hand Label the clusters using topic modeling\n",
    "- 5.) Reduce dimensions to vizualize the clusters in 2d"
   ]
  },
  {
   "cell_type": "markdown",
   "metadata": {},
   "source": [
    "**Labels**\n",
    "- label_0 = Talking about debbie wasserman, curse a lot\n",
    "- label_1 = Female\n",
    "- label_2 = Worried about trump with the nuclear codes\n",
    "- label_3 = Love, god, good vibes, \n",
    "- label_4 = Watching the debate with friends, supporting hillary\n",
    "- label_5 = Proud Americans\n",
    "- label_6 = Conservative Sports Fans, talking about korea a lot?\n",
    "- label_7 = Barrack and Michelle Fans\n",
    "- label_8 = Barrack and Michelle Fans\n",
    "- label_9 = Young, Bernie Sanders Supporters"
   ]
  },
  {
   "cell_type": "code",
   "execution_count": null,
   "metadata": {},
   "outputs": [],
   "source": [
    "Custer 1 :Talking about Debbie Wasserman Shultz (unfavorably)\n",
    "Custer 2 :Women discussing women’s issues\n",
    "Custer 3 :Expressing concern about trump with the nuclear codes\n",
    "Custer 4 :Talking about love, God, good vibes\n",
    "Custer 5 :Watching the debate with friends, supporting Hillary Clinton\n",
    "Custer 6 :Proud Americans\n",
    "Custer 7 :Conservative sports fans\n",
    "Custer 8 :Barack and Michelle Obama fans\n",
    "Custer 9 :Barack and Michelle Obama fans\n",
    "Custer 10 :Young people, Bernie Sanders supporters\n"
   ]
  }
 ],
 "metadata": {
  "instance_type": "ml.t3.medium",
  "kernelspec": {
   "display_name": "Python 3 (Base Python)",
   "language": "python",
   "name": "python3__SAGEMAKER_INTERNAL__arn:aws:sagemaker:us-east-1:081325390199:image/python-3.6"
  },
  "language_info": {
   "codemirror_mode": {
    "name": "ipython",
    "version": 3
   },
   "file_extension": ".py",
   "mimetype": "text/x-python",
   "name": "python",
   "nbconvert_exporter": "python",
   "pygments_lexer": "ipython3",
   "version": "3.6.10"
  }
 },
 "nbformat": 4,
 "nbformat_minor": 4
}
