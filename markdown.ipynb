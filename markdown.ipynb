{
 "cells": [
  {
   "cell_type": "markdown",
   "metadata": {},
   "source": [
    "# Outline"
   ]
  },
  {
   "cell_type": "markdown",
   "metadata": {},
   "source": [
    " - Background\n",
    " - Motivation\n",
    " - Data\n",
    " - Text Preprocessing\n",
    " - Identifying. and Labeling Groups\n",
    "     - Network Analysis\n",
    "     - K Means Clustering\n",
    " - Modeling \n",
    "     - Selection\n",
    "     - Scores"
   ]
  },
  {
   "cell_type": "markdown",
   "metadata": {},
   "source": [
    "### Process Overview\n",
    "<img src='plots/process_overview.png'>"
   ]
  },
  {
   "cell_type": "markdown",
   "metadata": {},
   "source": [
    "### Text Preprocessing "
   ]
  },
  {
   "cell_type": "markdown",
   "metadata": {},
   "source": [
    "Raw Tweet\n",
    "- \"Dear Donald Trump, We'll see you Scott Baio and raise you Meryl Streep #DemsInPhilly https://t.co/loHbvcOFAT\"\n",
    "    \n",
    "Preprocessed\n",
    "- abc\n",
    "\n",
    "Vectorized\n",
    "- abc\n",
    "\n"
   ]
  },
  {
   "cell_type": "markdown",
   "metadata": {},
   "source": [
    "### Network Analysis"
   ]
  },
  {
   "cell_type": "markdown",
   "metadata": {},
   "source": [
    "**Methods**\n",
    "\n",
    "- 1.) Create a graph where points represent users and lines represent conversations (tweets)\n",
    "- 2.) Nodes are grouped into communities based on the frequency of their interactions with other users (mentions, replies)\n",
    "- 3.) For each community, extract the keywords that define it using TF-IDF\n",
    "- 4.) Hand Label the communities"
   ]
  },
  {
   "cell_type": "markdown",
   "metadata": {},
   "source": [
    "**Labels**\n",
    "\n",
    "-  bernie delegates, progressives who are talk about a politicla revolution. Anti-war, justice and unity\n",
    "-  Women, Mothers, Black, talk about michelle obama\n",
    "-  Mainstreams anchors hournalists hosts, mostly at CNN\n",
    "-  guys, fathers, dads, professionals in news media who are conservatives and talk about hillary\n",
    "-  mothers moms \n",
    "-  religious conservatives\n",
    "-  journalists talking about the DNC chair debbie wazzerman shultz\n",
    "-  Hispanic and Latinx Persons\n",
    "-  authors and writers\n",
    "-  news people\n",
    "-  conservatives talking about donna brazille and implicating corruption, talking about wikileaks\n",
    "-  Religious males (husbands) who work in media (radio\n",
    "-  Muslim Persons \n",
    "-  Reporterrs\n",
    "-  latina, teenages, 'don't give a ****'\n",
    "- talking about mental illness and demi lovato (?)\n"
   ]
  },
  {
   "cell_type": "markdown",
   "metadata": {},
   "source": [
    "### Network Graph \n",
    "<img src='graphs/million_openord_compressed copy.png'>"
   ]
  },
  {
   "cell_type": "markdown",
   "metadata": {},
   "source": [
    "### KMeans Clustering\n",
    "\n",
    "**Methods**\n",
    "\n",
    "- 1.) Using a pre-trained word2vec model trained on 2 billion tweets (stanford), vectorize text data (aka turn the words into a numerical representation)\n",
    "-     ex: King - Man + Woman = Queen\n",
    "- 2.) Use K-Means algorithm to group users that use similar language together\n",
    "- 3.) Label each user with their assigned cluster\n",
    "- 4.) Hand Label the clusters using topic modeling\n",
    "- 5.) Reduce dimensions to vizualize the clusters in 2d"
   ]
  },
  {
   "cell_type": "markdown",
   "metadata": {},
   "source": [
    "**Labels**\n",
    "- Custer 1 :Talking about Debbie Wasserman Shultz (unfavorably)\n",
    "- Custer 2 :Women discussing women’s issues\n",
    "- Custer 3 :Expressing concern about trump with the nuclear codes\n",
    "- Custer 4 :Talking about love, God, good vibes\n",
    "- Custer 5 :Watching the debate with friends, supporting Hillary Clinton\n",
    "- Custer 6 :Proud Americans\n",
    "- Custer 7 :Conservative sports fans\n",
    "- Custer 8 :Barack and Michelle Obama fans\n",
    "- Custer 9 :Barack and Michelle Obama fans\n",
    "- Custer 10 :Young people, Bernie Sanders supporters"
   ]
  },
  {
   "cell_type": "markdown",
   "metadata": {},
   "source": [
    "### Modeling:"
   ]
  },
  {
   "cell_type": "markdown",
   "metadata": {},
   "source": [
    "**Cluster Classifier Benchmarks**\n",
    "\n",
    "<img src=\"plots/cluster_benchmarks.png\">"
   ]
  },
  {
   "cell_type": "markdown",
   "metadata": {},
   "source": [
    "**Community Classifier Benchmarks**\n",
    "\n",
    "<img src=\"plots/community_benchmarks.png\">"
   ]
  },
  {
   "cell_type": "code",
   "execution_count": null,
   "metadata": {},
   "outputs": [],
   "source": []
  }
 ],
 "metadata": {
  "instance_type": "ml.t3.medium",
  "kernelspec": {
   "display_name": "Python 3",
   "language": "python",
   "name": "python3"
  },
  "language_info": {
   "codemirror_mode": {
    "name": "ipython",
    "version": 3
   },
   "file_extension": ".py",
   "mimetype": "text/x-python",
   "name": "python",
   "nbconvert_exporter": "python",
   "pygments_lexer": "ipython3",
   "version": "3.7.6"
  }
 },
 "nbformat": 4,
 "nbformat_minor": 4
}
